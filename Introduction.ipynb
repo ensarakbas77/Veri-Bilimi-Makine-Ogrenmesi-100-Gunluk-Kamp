{
 "cells": [
  {
   "cell_type": "code",
   "execution_count": 1,
   "id": "17d0ccd6-cd3b-46d9-8df9-a192492993da",
   "metadata": {},
   "outputs": [
    {
     "name": "stdout",
     "output_type": "stream",
     "text": [
      "Ensar\n"
     ]
    }
   ],
   "source": [
    "print(\"Ensar\")"
   ]
  },
  {
   "cell_type": "markdown",
   "id": "1c97a582-0959-491b-a826-e68414969a59",
   "metadata": {},
   "source": [
    "# deneme"
   ]
  },
  {
   "cell_type": "code",
   "execution_count": 2,
   "id": "8fb41c88-d3e3-4571-8056-d257b262999e",
   "metadata": {},
   "outputs": [],
   "source": [
    "def numbers(x):\n",
    "    if x % 2 == 0:\n",
    "        return True\n",
    "    else:\n",
    "        return False"
   ]
  },
  {
   "cell_type": "code",
   "execution_count": 3,
   "id": "7446fbd7-aa84-4f0d-96a3-815f428585b8",
   "metadata": {},
   "outputs": [
    {
     "name": "stdout",
     "output_type": "stream",
     "text": [
      "This number is even\n"
     ]
    }
   ],
   "source": [
    "x=10\n",
    "result=numbers(x)\n",
    "if result:\n",
    "    print(\"This number is even\")\n",
    "else:\n",
    "    print(\"This number is odd\")"
   ]
  },
  {
   "cell_type": "markdown",
   "id": "07bc8771-44a0-4d06-acc0-e33fdbceb488",
   "metadata": {},
   "source": [
    "# Slicing"
   ]
  },
  {
   "cell_type": "code",
   "execution_count": 4,
   "id": "3cb463af-0b12-4db1-aac1-c1fd1ca5fdb8",
   "metadata": {
    "scrolled": true
   },
   "outputs": [
    {
     "data": {
      "text/plain": [
       "'A'"
      ]
     },
     "execution_count": 4,
     "metadata": {},
     "output_type": "execute_result"
    }
   ],
   "source": [
    "# variable [starting index:stopping index:stepping size]\n",
    "# starting size dahildir, stopping size dahil değildir.\n",
    "myName = \"Ensar Akbaş\"\n",
    "myName[6:7:]"
   ]
  },
  {
   "cell_type": "code",
   "execution_count": 5,
   "id": "19cd0cd8-88fe-410e-8d08-32bb7e103ac4",
   "metadata": {},
   "outputs": [
    {
     "name": "stdout",
     "output_type": "stream",
     "text": [
      "ar \n",
      "EsrAbş\n"
     ]
    }
   ],
   "source": [
    "print(myName[3:6:]) \n",
    "print(myName[::2]) # çift indexler"
   ]
  },
  {
   "cell_type": "code",
   "execution_count": 6,
   "id": "b76055d7-9d62-4a74-a379-7106e37862e7",
   "metadata": {},
   "outputs": [
    {
     "name": "stdout",
     "output_type": "stream",
     "text": [
      "şabkA rasnE\n"
     ]
    }
   ],
   "source": [
    "reverseName = myName[::-1]\n",
    "print(reverseName)"
   ]
  },
  {
   "cell_type": "markdown",
   "id": "6cec1db2-9f0e-481a-bdb0-3d127e064ba1",
   "metadata": {},
   "source": [
    "# Lists"
   ]
  },
  {
   "cell_type": "code",
   "execution_count": 7,
   "id": "03b722c1-f4ea-496e-a2ab-b9d0ed329dae",
   "metadata": {},
   "outputs": [],
   "source": [
    "myString = \"Hello World!\""
   ]
  },
  {
   "cell_type": "code",
   "execution_count": 8,
   "id": "69fdd66c-d939-44f3-abf8-9c8b63a2126a",
   "metadata": {},
   "outputs": [
    {
     "data": {
      "text/plain": [
       "['Hello', 'World!']"
      ]
     },
     "execution_count": 8,
     "metadata": {},
     "output_type": "execute_result"
    }
   ],
   "source": [
    "myString.split()"
   ]
  },
  {
   "cell_type": "code",
   "execution_count": 9,
   "id": "4017dbe9-3739-4f49-9692-ea6c0180f61a",
   "metadata": {},
   "outputs": [
    {
     "name": "stdout",
     "output_type": "stream",
     "text": [
      "<class 'str'>\n",
      "Help on built-in function upper:\n",
      "\n",
      "upper() method of builtins.str instance\n",
      "    Return a copy of the string converted to uppercase.\n",
      "\n"
     ]
    }
   ],
   "source": [
    "print(type(myString))\n",
    "help(myString.upper)"
   ]
  },
  {
   "cell_type": "code",
   "execution_count": 10,
   "id": "2cf21ff4-8ce7-4d86-b4a3-e2615d9a77a7",
   "metadata": {},
   "outputs": [],
   "source": [
    "myList = [10, 20, 30, 40, 50] # mutable (değiştirilebilir --> eleman eklenir-silinir.)"
   ]
  },
  {
   "cell_type": "code",
   "execution_count": 11,
   "id": "b7815e1f-f0f5-4eb1-9466-7c15a5e76b56",
   "metadata": {},
   "outputs": [
    {
     "name": "stdout",
     "output_type": "stream",
     "text": [
      "<class 'list'>\n",
      "Listemin uzunluğu:  5\n"
     ]
    }
   ],
   "source": [
    "print(type(myList))\n",
    "print(\"Listemin uzunluğu: \", len(myList))"
   ]
  },
  {
   "cell_type": "code",
   "execution_count": 12,
   "id": "838f813c-6155-40b7-ad05-568145ae25b2",
   "metadata": {},
   "outputs": [],
   "source": [
    "# List methods : remove(istediğini kaldır), append(sona ekler), pop(son elemanı sil), insert(index, eleman ekler), count(eleman indexi döndürür)"
   ]
  },
  {
   "cell_type": "code",
   "execution_count": 13,
   "id": "2cc7997c-2582-4cbb-9eae-69e5f78c7ed6",
   "metadata": {},
   "outputs": [
    {
     "name": "stdin",
     "output_type": "stream",
     "text": [
      "Kaç Yaşındasın:  18\n"
     ]
    }
   ],
   "source": [
    "age = input(\"Kaç Yaşındasın: \")"
   ]
  },
  {
   "cell_type": "code",
   "execution_count": 14,
   "id": "590c63db-2b64-425d-8548-664b168ad9f0",
   "metadata": {},
   "outputs": [
    {
     "name": "stdout",
     "output_type": "stream",
     "text": [
      "<class 'str'>\n",
      "<class 'int'>\n",
      "<class 'str'>\n"
     ]
    }
   ],
   "source": [
    "print(type(age))\n",
    "newAge=int(age)\n",
    "print(type(newAge))\n",
    "oldAge=str(newAge)\n",
    "print(type(oldAge))"
   ]
  },
  {
   "cell_type": "code",
   "execution_count": 15,
   "id": "86ba28d3-ec0b-4174-b6fd-bef621aaf9cf",
   "metadata": {},
   "outputs": [
    {
     "name": "stdout",
     "output_type": "stream",
     "text": [
      "[10, 20, 30, 40, 50, 10, 20, 30, 40, 50]\n",
      "[10, 20, 30, 40, 50, 10, 20, 30, 40, 50]\n"
     ]
    }
   ],
   "source": [
    "print(myList*2)\n",
    "print(myList + myList)"
   ]
  },
  {
   "cell_type": "code",
   "execution_count": 16,
   "id": "7d893b52-d3ab-4b4c-bb11-8674e32022af",
   "metadata": {},
   "outputs": [
    {
     "name": "stdout",
     "output_type": "stream",
     "text": [
      "[1, 2, 3]\n",
      "3\n",
      "[10, 30, 50]\n",
      "[10, 30]\n",
      "[10, 20, 30]\n"
     ]
    }
   ],
   "source": [
    "# nested list\n",
    "nestedList = [\"a\",\"e\",3.14,[1,2,3],10] \n",
    "print(nestedList[3])\n",
    "print(nestedList[3][2])\n",
    "\n",
    "# sciling with lists\n",
    "print(myList[::2])\n",
    "print(myList[0:4:2])\n",
    "print(myList[:3:])"
   ]
  },
  {
   "cell_type": "markdown",
   "id": "c078cabf-ce93-4fce-956a-984885639f9b",
   "metadata": {},
   "source": [
    "# Dictionary"
   ]
  },
  {
   "cell_type": "code",
   "execution_count": 17,
   "id": "966eda7e-2ea0-4376-a0c6-0d6a75b32b22",
   "metadata": {},
   "outputs": [
    {
     "name": "stdout",
     "output_type": "stream",
     "text": [
      "<class 'dict'>\n",
      "100\n"
     ]
    }
   ],
   "source": [
    "# key-value pairing\n",
    "fruit_list = {\"banana\":100, \"apple\": 150}\n",
    "print(type(fruit_list))\n",
    "print(fruit_list[\"banana\"])"
   ]
  },
  {
   "cell_type": "code",
   "execution_count": 18,
   "id": "8cc8ab17-fbc6-45dc-9abc-cbdd70590be7",
   "metadata": {},
   "outputs": [
    {
     "name": "stdout",
     "output_type": "stream",
     "text": [
      "dict_keys(['banana', 'apple'])\n",
      "dict_values([100, 150])\n"
     ]
    }
   ],
   "source": [
    "print(fruit_list.keys())\n",
    "print(fruit_list.values())"
   ]
  },
  {
   "cell_type": "code",
   "execution_count": 19,
   "id": "c3e6ac0a-e0f7-4c3d-b2e2-dd8f16eab7f2",
   "metadata": {},
   "outputs": [
    {
     "name": "stdout",
     "output_type": "stream",
     "text": [
      "{'banana': 200, 'apple': 150}\n",
      "Last dict:  {'banana': 200, 'apple': 150, 'melon': 300}\n"
     ]
    }
   ],
   "source": [
    "fruit_list[\"banana\"] = 200\n",
    "print(fruit_list) # banana's new value\n",
    "fruit_list[\"melon\"] = 300 # melon added to the dictionary\n",
    "print(\"Last dict: \", fruit_list)"
   ]
  },
  {
   "cell_type": "code",
   "execution_count": 20,
   "id": "c831a9c5-1e3d-4c6f-87f0-0882f1b53f95",
   "metadata": {},
   "outputs": [
    {
     "name": "stdout",
     "output_type": "stream",
     "text": [
      "200\n",
      "0\n"
     ]
    }
   ],
   "source": [
    "print(fruit_list.get(\"banana\",0))\n",
    "print(fruit_list.get(\"orange\",0)) # orange isn't found in the dictionary"
   ]
  },
  {
   "cell_type": "code",
   "execution_count": 21,
   "id": "dc4deb83-ac67-486d-a6f7-d7cfd956e6c5",
   "metadata": {},
   "outputs": [
    {
     "name": "stdout",
     "output_type": "stream",
     "text": [
      "[10, 20, 30, 40, 50]\n",
      "40\n",
      "\n",
      "{'a': 100, 'b': 200}\n",
      "200\n"
     ]
    }
   ],
   "source": [
    "my_dictionary = {\"k1\":10, \"k2\":[10,20,30,40,50],\"k3\":\"string\",\"k4\":{\"a\":100,\"b\":200}} # How can I find 40 and 200 ?\n",
    "# for 40\n",
    "print(my_dictionary[\"k2\"])\n",
    "print(my_dictionary[\"k2\"][3])\n",
    "print()\n",
    "\n",
    "# for 200\n",
    "print(my_dictionary[\"k4\"])\n",
    "print(my_dictionary[\"k4\"][\"b\"])"
   ]
  },
  {
   "cell_type": "markdown",
   "id": "74eac7f5-a1e9-4f17-b2c7-75d2ca7949a8",
   "metadata": {},
   "source": [
    "# Sets"
   ]
  },
  {
   "cell_type": "code",
   "execution_count": 22,
   "id": "6efc598b-6496-450a-b581-68b5755cbfcb",
   "metadata": {},
   "outputs": [
    {
     "name": "stdout",
     "output_type": "stream",
     "text": [
      "[10, 20, 30, 10, 20, 40, 10, 20, 40]\n",
      "9 \n",
      "\n",
      "{40, 10, 20, 30}\n",
      "4\n"
     ]
    }
   ],
   "source": [
    "#unique elements, unordered\n",
    "benim_listem = [10,20,30,10,20,40,10,20,40]\n",
    "print(benim_listem)\n",
    "print(len(benim_listem), \"\\n\")\n",
    "\n",
    "BenimListem = set(benim_listem) # snake_case, camelCase, PascalCase\n",
    "print(BenimListem)\n",
    "print(len(BenimListem))"
   ]
  },
  {
   "cell_type": "code",
   "execution_count": 23,
   "id": "8250927a-e07f-4552-ba96-7bed08638115",
   "metadata": {},
   "outputs": [
    {
     "name": "stdout",
     "output_type": "stream",
     "text": [
      "{50, 20, 40, 10, 30}\n",
      "\n",
      "{100, 10, 50, 20}\n",
      "\n",
      "Kümelerde Birleşim:  {100, 40, 10, 50, 20, 30}\n",
      "Kümelerde Kesişim:  {10, 50, 20}\n"
     ]
    }
   ],
   "source": [
    "mySet = {10,20,30,10,10,20,30,40,50}\n",
    "print(mySet)\n",
    "print()\n",
    "\n",
    "mySet2 = {10,100,20,50}\n",
    "print(mySet2)\n",
    "print()\n",
    "\n",
    "print(\"Kümelerde Birleşim: \", mySet.union(mySet2))\n",
    "print(\"Kümelerde Kesişim: \", mySet.intersection(mySet2))"
   ]
  },
  {
   "cell_type": "markdown",
   "id": "f8892709-8e03-46d8-83ba-6a77b700808b",
   "metadata": {},
   "source": [
    "# Tuples"
   ]
  },
  {
   "cell_type": "code",
   "execution_count": 24,
   "id": "cb84c3cd-0f84-4b38-b111-b36724b86533",
   "metadata": {},
   "outputs": [
    {
     "name": "stdout",
     "output_type": "stream",
     "text": [
      "['Huawei', 'ASUS', 'HP'] \n",
      "\n",
      "['Huawei', 'ASUS', 'HP', 'Casper']\n"
     ]
    }
   ],
   "source": [
    "# immutable\n",
    "computers = list() # dictionaryName = dict() , setName = set() şeklinde de tanımlanabilir. \n",
    "computers.append(\"Huawei\")\n",
    "computers.append(\"ASUS\")\n",
    "computers.append(\"HP\")\n",
    "print(computers,\"\\n\")\n",
    "computers.append(\"Casper\")\n",
    "print(computers)"
   ]
  },
  {
   "cell_type": "code",
   "execution_count": 25,
   "id": "33a73a48-9790-4183-ba8d-ab295ca6e294",
   "metadata": {},
   "outputs": [
    {
     "name": "stdout",
     "output_type": "stream",
     "text": [
      "My tuple is:  (100, 200, 300)\n",
      "\n",
      "1\n",
      "2\n"
     ]
    }
   ],
   "source": [
    "phones = (100, 200, 300)\n",
    "print(\"My tuple is: \", phones)\n",
    "# phones[0] = 400 --> wrong, tuple is immutable \n",
    "print()\n",
    "print(phones.count(100))\n",
    "print(phones.index(300))"
   ]
  },
  {
   "cell_type": "markdown",
   "id": "a86548a9-9bd6-42ed-88c6-ea484e783e98",
   "metadata": {},
   "source": [
    "# Contidation Blocks and Loops"
   ]
  },
  {
   "cell_type": "code",
   "execution_count": 26,
   "id": "47375332-977c-4b3b-927a-5145246f2eb0",
   "metadata": {},
   "outputs": [
    {
     "name": "stdout",
     "output_type": "stream",
     "text": [
      "True\n",
      "False\n",
      "False\n",
      "True\n",
      "False\n",
      "True\n",
      "True\n"
     ]
    }
   ],
   "source": [
    "print(2<3 and 4>2) # and --> && \n",
    "print(0>11 or 5<2) # or --> ||\n",
    "print(4==1)\n",
    "print(5!=1)\n",
    "print(not 10==10) \n",
    "print(10 in [10,20,30])\n",
    "print(5 not in [10,20,30])"
   ]
  },
  {
   "cell_type": "code",
   "execution_count": 27,
   "id": "496a4723-9458-4e79-86bd-b475e0c18972",
   "metadata": {},
   "outputs": [
    {
     "name": "stdout",
     "output_type": "stream",
     "text": [
      "5.0\n",
      "10.0\n",
      "15.0\n",
      "20.0\n",
      "25.0\n",
      "30.0\n",
      "35.0\n",
      "[5.0, 10.0, 15.0, 20.0, 25.0, 30.0, 35.0]\n"
     ]
    }
   ],
   "source": [
    "# for loop\n",
    "listem = [10,20,30,40,50,60,70]\n",
    "emptyList = []\n",
    "\n",
    "for i in listem:\n",
    "    i = i / 2 \n",
    "    print(i)\n",
    "    emptyList.append(i)\n",
    "print(emptyList)"
   ]
  },
  {
   "cell_type": "code",
   "execution_count": 28,
   "id": "47e087f3-d5ab-410c-b482-7bc4856445af",
   "metadata": {},
   "outputs": [
    {
     "name": "stdout",
     "output_type": "stream",
     "text": [
      "11 sayısının karakökünün yaklaşık değeri: 3.3166247903554\n",
      "Asaldır.\n"
     ]
    }
   ],
   "source": [
    "# Prime Number\n",
    "import math\n",
    "\n",
    "x=11\n",
    "y=math.sqrt(x)\n",
    "print(f\"{x} sayısının karakökünün yaklaşık değeri: {y}\")\n",
    "is_prime = True\n",
    "\n",
    "if x<2 : is_prime = False\n",
    "for i in range(2, int(y)+1):\n",
    "    # print(i)\n",
    "    if x % i == 0:\n",
    "        is_prime = False\n",
    "        break\n",
    "\n",
    "if is_prime:\n",
    "    print(\"Asaldır.\")\n",
    "else: \n",
    "    print(\"Asal Değildir!\")"
   ]
  },
  {
   "cell_type": "code",
   "execution_count": 29,
   "id": "8f4bc38f-d0af-4ae0-bdb2-a8780ea6509f",
   "metadata": {},
   "outputs": [
    {
     "name": "stdout",
     "output_type": "stream",
     "text": [
      "a\n",
      "c\n",
      "e\n",
      "g\n"
     ]
    }
   ],
   "source": [
    "# tuple unpacking\n",
    "my_new_list = [(\"a\",\"b\"),(\"c\",\"d\"),(\"e\",\"f\"),(\"g\",\"h\")] \n",
    "\n",
    "for (x,y) in my_new_list:\n",
    "    print(x)"
   ]
  },
  {
   "cell_type": "code",
   "execution_count": 30,
   "id": "d4326d14-ea0e-44fc-804f-90afd0708a60",
   "metadata": {},
   "outputs": [
    {
     "name": "stdout",
     "output_type": "stream",
     "text": [
      "0\n",
      "1\n",
      "2\n",
      "3\n",
      "4\n",
      "\n",
      "**********\n",
      "\n",
      "4\n",
      "5\n",
      "6\n",
      "7\n",
      "8\n",
      "9\n",
      "\n",
      "**********\n",
      "\n"
     ]
    }
   ],
   "source": [
    "# break, continues, pass --> soru çöz \n",
    "deneme_listem = [0,1,2,3,4,5,6,7,8,9]\n",
    "\n",
    "# Break\n",
    "for i in deneme_listem:\n",
    "    print(i)\n",
    "    if i >= 4:\n",
    "        break\n",
    "\n",
    "print(\"\\n**********\\n\")\n",
    "# Continues\n",
    "for i in deneme_listem:\n",
    "    if i < 4:\n",
    "        continue\n",
    "    print(i)\n",
    "\n",
    "print(\"\\n**********\\n\")\n",
    "# Pass\n",
    "for i in deneme_listem:\n",
    "    pass"
   ]
  },
  {
   "cell_type": "code",
   "execution_count": 31,
   "id": "e485accf-9978-46b3-8967-a43dc0c327e2",
   "metadata": {},
   "outputs": [
    {
     "name": "stdout",
     "output_type": "stream",
     "text": [
      "ENSAR\n",
      "ENSAR\n",
      "ENSAR\n",
      "ENSAR\n",
      "ENSAR\n"
     ]
    }
   ],
   "source": [
    "# While\n",
    "name = \"ENSAR\"\n",
    "j=0\n",
    "\n",
    "while j<5:\n",
    "    print(name)\n",
    "    j += 1"
   ]
  },
  {
   "cell_type": "code",
   "execution_count": 32,
   "id": "de1a1707-5863-46ee-be56-51209e2436b5",
   "metadata": {},
   "outputs": [
    {
     "name": "stdout",
     "output_type": "stream",
     "text": [
      "[0, 2, 4, 6, 8] \n",
      "\n",
      "(0, 0)\n",
      "(1, 2)\n",
      "(2, 4)\n",
      "(3, 6)\n",
      "(4, 8)\n",
      "\n",
      "0\n",
      "1\n",
      "2\n",
      "3\n",
      "4\n",
      "\n",
      "[('makarna', 'salı'), ('pilav', 'cuma'), ('bulgur', 'pazar')]\n"
     ]
    }
   ],
   "source": [
    "# range \n",
    "demo_listem=list(range(0,10,2))\n",
    "print(demo_listem,\"\\n\")\n",
    "\n",
    "# enumerate\n",
    "for i in enumerate(demo_listem):\n",
    "    print(i)\n",
    "\n",
    "print()\n",
    "\n",
    "for (index,value) in enumerate(demo_listem):\n",
    "    print(index)\n",
    "\n",
    "\n",
    "#from random import randint --> rastgele sayı\n",
    "#from random import shuffle --> rastgele karıştırma\n",
    "print()\n",
    "\n",
    "#zip\n",
    "food_list = [\"makarna\", \"pilav\", \"bulgur\"]\n",
    "day_list = [\"salı\", \"cuma\", \"pazar\"]\n",
    "zipped_list = list(zip(food_list,day_list))\n",
    "print(zipped_list)"
   ]
  },
  {
   "cell_type": "code",
   "execution_count": null,
   "id": "4b4fa870-1322-4fe7-a8e3-1ae9c7b2e797",
   "metadata": {},
   "outputs": [],
   "source": []
  }
 ],
 "metadata": {
  "kernelspec": {
   "display_name": "Python 3 (ipykernel)",
   "language": "python",
   "name": "python3"
  },
  "language_info": {
   "codemirror_mode": {
    "name": "ipython",
    "version": 3
   },
   "file_extension": ".py",
   "mimetype": "text/x-python",
   "name": "python",
   "nbconvert_exporter": "python",
   "pygments_lexer": "ipython3",
   "version": "3.13.5"
  }
 },
 "nbformat": 4,
 "nbformat_minor": 5
}
