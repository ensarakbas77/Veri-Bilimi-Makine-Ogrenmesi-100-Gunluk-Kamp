{
 "cells": [
  {
   "cell_type": "markdown",
   "id": "2bd952ae-d3f8-4b80-8cb6-fdbf5841d5d2",
   "metadata": {},
   "source": [
    "# Functions"
   ]
  },
  {
   "cell_type": "code",
   "execution_count": 1,
   "id": "757bf77f-70b6-45e8-a2ce-2632b5eca0bc",
   "metadata": {},
   "outputs": [],
   "source": [
    "# Prime Number\n",
    "def isPrime(num):\n",
    "    is_prime = True\n",
    "    for i in range(2, num):\n",
    "        if num % i == 0:\n",
    "            is_prime = False\n",
    "            break\n",
    "    return is_prime"
   ]
  },
  {
   "cell_type": "code",
   "execution_count": 2,
   "id": "31501b31-1ced-40dd-9955-047edc6f8236",
   "metadata": {},
   "outputs": [
    {
     "name": "stdout",
     "output_type": "stream",
     "text": [
      "Asal\n"
     ]
    }
   ],
   "source": [
    "num = 7\n",
    "\n",
    "result = isPrime(num)\n",
    "if result:\n",
    "    print(\"Asal\")\n",
    "else:\n",
    "    print(\"Asal Değil\")"
   ]
  },
  {
   "cell_type": "code",
   "execution_count": 3,
   "id": "93766b3e-febc-4e31-b295-c14bfb055768",
   "metadata": {},
   "outputs": [
    {
     "name": "stdout",
     "output_type": "stream",
     "text": [
      "60  &  550\n"
     ]
    }
   ],
   "source": [
    "# args, kwargs (arguments, key word arguments) \n",
    "# Sayısı belli olmayan parametre vereceksem kullanılır.\n",
    "\n",
    "def topla(*args):\n",
    "    return sum(args)\n",
    "\n",
    "result1 = topla(10,20,30)\n",
    "result2 = topla(10,20,30,40,50,60,70,80,90,100)\n",
    "print(result1,\" & \",result2)"
   ]
  },
  {
   "cell_type": "markdown",
   "id": "8cd7f7a7-bbd1-419f-adbc-4df91b0b03cd",
   "metadata": {},
   "source": [
    "# map, filter, lambda"
   ]
  },
  {
   "cell_type": "code",
   "execution_count": 4,
   "id": "877e333f-1445-4020-aef4-85f9aa15533c",
   "metadata": {},
   "outputs": [
    {
     "name": "stdout",
     "output_type": "stream",
     "text": [
      "[1.5, 2.5, 3.5, 4.5, 5.5, 6.5]\n"
     ]
    }
   ],
   "source": [
    "# map\n",
    "def divideNumber(number):\n",
    "    return number / 2\n",
    "\n",
    "myList = [3,5,7,9,11,13]\n",
    "\n",
    "mapListem = list(map(divideNumber, myList))\n",
    "print(mapListem)"
   ]
  },
  {
   "cell_type": "code",
   "execution_count": 6,
   "id": "e366866f-4ffb-4748-b535-6e6150ef486f",
   "metadata": {},
   "outputs": [
    {
     "name": "stdout",
     "output_type": "stream",
     "text": [
      "[True, False, False, True, True]\n",
      "['Ensar Akbaş', 'Ensar', 'ErvaEnsarMuhammed']\n"
     ]
    }
   ],
   "source": [
    "# filter\n",
    "def controlString(string):\n",
    "    return \"Ensar\" in string\n",
    "\n",
    "myStringList = [\"Ensar Akbaş\", \"Erva\", \"Muhammed\", \"Ensar\", \"ErvaEnsarMuhammed\"]\n",
    "print(list(map(controlString, myStringList)))\n",
    "print(list(filter(controlString, myStringList)))"
   ]
  },
  {
   "cell_type": "code",
   "execution_count": 7,
   "id": "e31bf883-5ce5-48a7-ae2b-2624cd025935",
   "metadata": {},
   "outputs": [
    {
     "name": "stdout",
     "output_type": "stream",
     "text": [
      "60 \n",
      "\n",
      "[50, 100, 150, 200]\n"
     ]
    }
   ],
   "source": [
    "# lambda\n",
    "multiplyLambda = lambda num : num * 3\n",
    "print(multiplyLambda(20),\"\\n\")\n",
    "\n",
    "numList = [10,20,30,40]\n",
    "print(list(map(lambda num : num * 5, numList)))"
   ]
  },
  {
   "cell_type": "markdown",
   "id": "5d49e1e5-e522-4353-af7c-0bc220d7b040",
   "metadata": {},
   "source": [
    "# ClassesOOP"
   ]
  },
  {
   "cell_type": "code",
   "execution_count": 2,
   "id": "d020777e-6262-4ddb-9176-3ebb2b643185",
   "metadata": {},
   "outputs": [],
   "source": [
    "class Person():\n",
    "    # property\n",
    "    #name=\"\"\n",
    "    #age=0\n",
    "    #gender=\"\"\n",
    "    job=\"\"\n",
    "\n",
    "    def __init__(self, name, age, gender):\n",
    "        self.name = name\n",
    "        self.age = age\n",
    "        self.gender = gender\n",
    "        self.calculate = age * 3\n",
    "\n",
    "    def printPerson(self):\n",
    "        print(\"Kişisel Bilgiler:\\n\",self.name,\"-\",self.age,\" yaşında -\",self.gender)"
   ]
  },
  {
   "cell_type": "code",
   "execution_count": 3,
   "id": "1064dcd9-dde8-45b3-9235-b780fe53e572",
   "metadata": {},
   "outputs": [],
   "source": [
    "person1 = Person(\"Ensar\", 21, \"Male\")"
   ]
  },
  {
   "cell_type": "code",
   "execution_count": 4,
   "id": "5ac37a34-f806-45ad-8da9-b67c3613cb39",
   "metadata": {},
   "outputs": [
    {
     "name": "stdout",
     "output_type": "stream",
     "text": [
      "Kişisel Bilgiler:\n",
      " Ensar - 21  yaşında - Male\n"
     ]
    }
   ],
   "source": [
    "person1.printPerson()"
   ]
  },
  {
   "cell_type": "code",
   "execution_count": 5,
   "id": "5d339abb-41de-4695-8731-71af43e45939",
   "metadata": {},
   "outputs": [
    {
     "name": "stdout",
     "output_type": "stream",
     "text": [
      "developer\n",
      "63\n"
     ]
    }
   ],
   "source": [
    "person1.job = \"developer\"\n",
    "print(person1.job)\n",
    "print(person1.calculate)"
   ]
  },
  {
   "cell_type": "markdown",
   "id": "5afc6208-6a80-49c9-b423-b8befbb9b734",
   "metadata": {},
   "source": [
    "# Inheritance"
   ]
  },
  {
   "cell_type": "code",
   "execution_count": 27,
   "id": "9bb2a148-1ebb-47c8-b31a-ab2740fb0d2d",
   "metadata": {},
   "outputs": [
    {
     "name": "stdout",
     "output_type": "stream",
     "text": [
      "Serçe uçuyor.\n",
      "Levrek yüzüyor.\n"
     ]
    }
   ],
   "source": [
    "# Tanım:\n",
    "# Inheritance, bir sınıfın başka bir sınıfın özelliklerini ve metodlarını miras alması anlamına gelir. \n",
    "# Bu sayede tekrar tekrar aynı kodu yazmak gerekmez.\n",
    "# Amaç:\n",
    "# Kod tekrarını önlemek\n",
    "# Genel sınıflardan özel sınıflar türetmek\n",
    "\n",
    "class Hayvan:\n",
    "    def __init__(self, isim):\n",
    "        self.isim = isim\n",
    "\n",
    "    def hareket_et(self):\n",
    "        print(f\"{self.isim} hareket ediyor.\")\n",
    "\n",
    "class Kus(Hayvan):\n",
    "    def hareket_et(self):\n",
    "        print(f\"{self.isim} uçuyor.\")\n",
    "\n",
    "class Balik(Hayvan):\n",
    "    def hareket_et(self):\n",
    "        print(f\"{self.isim} yüzüyor.\")\n",
    "\n",
    "# Kullanım\n",
    "k = Kus(\"Serçe\")\n",
    "b = Balik(\"Levrek\")\n",
    "\n",
    "k.hareket_et()  # Serçe uçuyor.\n",
    "b.hareket_et()  # Levrek yüzüyor.\n"
   ]
  },
  {
   "cell_type": "code",
   "execution_count": 6,
   "id": "daccba57-6435-4540-a49d-6cd34e62caa3",
   "metadata": {},
   "outputs": [],
   "source": [
    "class Musician():\n",
    "    def __init__(self, name):\n",
    "        self.name = name \n",
    "        print(\"ana sınıf\")\n",
    "\n",
    "    def test1(self):\n",
    "        print(\"test1\")\n",
    "\n",
    "    def test2(self):\n",
    "        print(\"test2\")"
   ]
  },
  {
   "cell_type": "code",
   "execution_count": 7,
   "id": "70bc711f-4ada-4afc-8c73-a8e5b9640f5c",
   "metadata": {},
   "outputs": [],
   "source": [
    "class MusicianPlus(Musician):\n",
    "    def __init__(self, name):\n",
    "        Musician.__init__(self, name)\n",
    "        print(\"türetilmiş sınıf\")\n",
    "\n",
    "    def test3(self):\n",
    "        print(\"test3\")\n",
    "\n",
    "    #override\n",
    "    def test1(self):\n",
    "        print(\"test1 test1 test1\")"
   ]
  },
  {
   "cell_type": "code",
   "execution_count": 8,
   "id": "66a28a1b-d8e7-4187-96aa-2f308081d23e",
   "metadata": {},
   "outputs": [
    {
     "name": "stdout",
     "output_type": "stream",
     "text": [
      "ana sınıf\n"
     ]
    }
   ],
   "source": [
    "musician1 = Musician(\"Ensar\")"
   ]
  },
  {
   "cell_type": "code",
   "execution_count": 9,
   "id": "a7fb0458-dcb8-4b46-bdba-b6b65a194082",
   "metadata": {},
   "outputs": [
    {
     "data": {
      "text/plain": [
       "'Ensar'"
      ]
     },
     "execution_count": 9,
     "metadata": {},
     "output_type": "execute_result"
    }
   ],
   "source": [
    "musician1.name"
   ]
  },
  {
   "cell_type": "code",
   "execution_count": 10,
   "id": "d0a277ec-b3d4-49df-abed-b6e3fe7666fc",
   "metadata": {},
   "outputs": [
    {
     "name": "stdout",
     "output_type": "stream",
     "text": [
      "test1\n"
     ]
    }
   ],
   "source": [
    "musician1.test1()"
   ]
  },
  {
   "cell_type": "code",
   "execution_count": 11,
   "id": "a4838e69-5587-42d0-b8c0-aa4e5eb64fcf",
   "metadata": {},
   "outputs": [
    {
     "name": "stdout",
     "output_type": "stream",
     "text": [
      "ana sınıf\n",
      "türetilmiş sınıf\n"
     ]
    }
   ],
   "source": [
    "musucianPlus = MusicianPlus(\"Erva\")"
   ]
  },
  {
   "cell_type": "code",
   "execution_count": 12,
   "id": "bac1a1c8-47f4-411f-9e22-6290122dbf4f",
   "metadata": {},
   "outputs": [
    {
     "name": "stdout",
     "output_type": "stream",
     "text": [
      "Erva\n",
      "test3\n",
      "None\n",
      "test1 test1 test1\n",
      "None\n"
     ]
    }
   ],
   "source": [
    "print(musucianPlus.name)\n",
    "print(musucianPlus.test3())\n",
    "print(musucianPlus.test1())"
   ]
  },
  {
   "cell_type": "markdown",
   "id": "cc44f1fe-9cff-46a8-a25d-cca5feb06232",
   "metadata": {},
   "source": [
    "# Polymorphism"
   ]
  },
  {
   "cell_type": "code",
   "execution_count": 25,
   "id": "a5b241e1-5711-4dd8-a5d3-11b2f3614d6c",
   "metadata": {},
   "outputs": [
    {
     "name": "stdout",
     "output_type": "stream",
     "text": [
      "Miyav!\n",
      "Hav hav!\n"
     ]
    }
   ],
   "source": [
    "# Polymorphism, aynı isimdeki metodların farklı sınıflarda farklı şekilde davranmasıdır. \n",
    "# Bu, genelde aynı metod ismi ile farklı işlemler yapılması anlamına gelir.\n",
    "# Amaç:\n",
    "# Kod tekrarını azaltmak\n",
    "# Farklı sınıfları tek bir arayüzle yönetmek\n",
    " \n",
    "class Kedi:\n",
    "    def ses_cikar(self):\n",
    "        print(\"Miyav!\")\n",
    "\n",
    "class Kopek:\n",
    "    def ses_cikar(self):\n",
    "        print(\"Hav hav!\")\n",
    "\n",
    "# Polymorphism örneği\n",
    "def hayvan_sesi(hayvan):\n",
    "    hayvan.ses_cikar()\n",
    "\n",
    "kedi = Kedi()\n",
    "kopek = Kopek()\n",
    "\n",
    "hayvan_sesi(kedi)\n",
    "hayvan_sesi(kopek)"
   ]
  },
  {
   "cell_type": "markdown",
   "id": "1e6edf8c-f9d9-4b81-9c9b-0267569dfb05",
   "metadata": {},
   "source": [
    "# Encapsulation"
   ]
  },
  {
   "cell_type": "code",
   "execution_count": 24,
   "id": "f8b9b59f-cb67-4c4e-bc0f-a9c4edb9dd61",
   "metadata": {},
   "outputs": [
    {
     "name": "stdout",
     "output_type": "stream",
     "text": [
      "85\n",
      "Not 0 ile 100 arasında olmalı.\n",
      "85\n",
      "90\n"
     ]
    }
   ],
   "source": [
    "# Encapsulation, bir sınıfın verilerini (özelliklerini) dış etkilerden koruma yöntemidir. \n",
    "# Genelde private (özel) alanlar tanımlanarak yapılır ve bu alanlara erişim getter ve setter metodlarıyla sağlanır.\n",
    "# Amaç:\n",
    "# Nesnelerin verilerini doğrudan değiştirmeyi engellemek\n",
    "# Hatalı veri girişlerini kontrol altına almak\n",
    "\n",
    "class Ogrenci:\n",
    "    def __init__(self, isim, notu):\n",
    "        self.isim = isim\n",
    "        self.__notu = notu  # private alan\n",
    "\n",
    "    def set_not(self, yeni_not):\n",
    "        if 0 <= yeni_not <= 100:\n",
    "            self.__notu = yeni_not\n",
    "        else:\n",
    "            print(\"Not 0 ile 100 arasında olmalı.\")\n",
    "\n",
    "    def get_not(self):\n",
    "        return self.__notu\n",
    "\n",
    "\n",
    "ogrenci1 = Ogrenci(\"Ensar\", 85)\n",
    "\n",
    "print(ogrenci1.get_not())  # 85\n",
    "\n",
    "ogrenci1.set_not(110)  # Geçersiz giriş\n",
    "print(ogrenci1.get_not())  # 85 (değişmedi)\n",
    "\n",
    "ogrenci1.set_not(90)\n",
    "print(ogrenci1.get_not())"
   ]
  },
  {
   "cell_type": "markdown",
   "id": "897a2261-b124-4d44-90b8-105da017fa33",
   "metadata": {},
   "source": [
    "# Abstraction"
   ]
  },
  {
   "cell_type": "code",
   "execution_count": 32,
   "id": "ac53a062-5fa1-41b4-8206-11e0ffa170cd",
   "metadata": {},
   "outputs": [
    {
     "name": "stdout",
     "output_type": "stream",
     "text": [
      "16\n",
      "28.26\n"
     ]
    }
   ],
   "source": [
    "# Tanım:\n",
    "# Abstraction, bir nesnenin sadece gerekli özelliklerini ortaya çıkarmak, gereksiz detayları gizlemek anlamına gelir. \n",
    "# Özellikle büyük projelerde karmaşıklığı azaltmak için kullanılır.\n",
    "# Amaç:\n",
    "# Kullanıcıya sadece ne yapılacağını göstermek (nasıl yapıldığını değil)\n",
    "# Sınıfları şablon olarak kullanmak\n",
    "\n",
    "from abc import ABC, abstractmethod\n",
    "\n",
    "class Sekil(ABC):\n",
    "    @abstractmethod\n",
    "    def alan(self):\n",
    "        pass\n",
    "\n",
    "class Kare(Sekil):\n",
    "    def __init__(self, kenar):\n",
    "        self.kenar = kenar\n",
    "\n",
    "    def alan(self):\n",
    "        return self.kenar * self.kenar\n",
    "\n",
    "class Daire(Sekil):\n",
    "    def __init__(self, yaricap):\n",
    "        self.yaricap = yaricap\n",
    "\n",
    "    def alan(self):\n",
    "        return 3.14 * self.yaricap ** 2\n",
    "# Kullanım\n",
    "sekiller = [Kare(4), Daire(3)]\n",
    "\n",
    "for sekil in sekiller:\n",
    "    print(sekil.alan())"
   ]
  },
  {
   "cell_type": "markdown",
   "id": "6486e2f4-061c-4e66-b8e8-46b7bcd0a8ba",
   "metadata": {},
   "source": [
    "# Error Handling"
   ]
  },
  {
   "cell_type": "code",
   "execution_count": 41,
   "id": "c195e030-fa0b-49b0-bd6b-203ead1261c7",
   "metadata": {},
   "outputs": [
    {
     "name": "stdin",
     "output_type": "stream",
     "text": [
      "Bir sayı girin:  2\n"
     ]
    },
    {
     "name": "stdout",
     "output_type": "stream",
     "text": [
      "5.0\n",
      "always run\n"
     ]
    }
   ],
   "source": [
    "# try-except\n",
    "while True:\n",
    "    try:\n",
    "        sayi = int(input(\"Bir sayı girin: \"))\n",
    "        print(10 / sayi)\n",
    "        break\n",
    "    except ValueError:\n",
    "        print(\"Lütfen geçerli bir sayı girin.\")\n",
    "    except ZeroDivisionError:\n",
    "        print(\"Sıfıra bölme hatası!\")\n",
    "    finally:\n",
    "        print(\"always run\")"
   ]
  },
  {
   "cell_type": "markdown",
   "id": "3c9e7c49-62bf-4c2c-89bc-3f79ee7ba2f7",
   "metadata": {},
   "source": [
    "# Files"
   ]
  },
  {
   "cell_type": "code",
   "execution_count": 91,
   "id": "67c1fb9f-b852-41a5-8edd-7eb92afc30af",
   "metadata": {},
   "outputs": [
    {
     "name": "stdout",
     "output_type": "stream",
     "text": [
      "Overwriting myfile.txt\n"
     ]
    }
   ],
   "source": [
    "%%writefile myfile.txt\n",
    "test 1\n",
    "test 2\n",
    "test 3"
   ]
  },
  {
   "cell_type": "code",
   "execution_count": 92,
   "id": "6c5f24c7-7f87-4ceb-be82-31384f11fa7d",
   "metadata": {},
   "outputs": [
    {
     "name": "stdout",
     "output_type": "stream",
     "text": [
      "<class '_io.TextIOWrapper'>\n"
     ]
    }
   ],
   "source": [
    "myFile = open(\"myfile.txt\")\n",
    "print(type(myFile))"
   ]
  },
  {
   "cell_type": "code",
   "execution_count": 93,
   "id": "40e77760-8de8-4bc6-8bfb-0e1124f859a7",
   "metadata": {},
   "outputs": [
    {
     "data": {
      "text/plain": [
       "'test 1\\ntest 2\\ntest 3\\n'"
      ]
     },
     "execution_count": 93,
     "metadata": {},
     "output_type": "execute_result"
    }
   ],
   "source": [
    "myFile.read()"
   ]
  },
  {
   "cell_type": "code",
   "execution_count": 94,
   "id": "31547911-7778-4513-bb6f-e67bab4e4cf9",
   "metadata": {},
   "outputs": [
    {
     "data": {
      "text/plain": [
       "''"
      ]
     },
     "execution_count": 94,
     "metadata": {},
     "output_type": "execute_result"
    }
   ],
   "source": [
    "myFile.read()"
   ]
  },
  {
   "cell_type": "code",
   "execution_count": 95,
   "id": "d4c0e02a-3f14-4317-9e06-84317685c333",
   "metadata": {},
   "outputs": [
    {
     "data": {
      "text/plain": [
       "0"
      ]
     },
     "execution_count": 95,
     "metadata": {},
     "output_type": "execute_result"
    }
   ],
   "source": [
    "myFile.seek(0)"
   ]
  },
  {
   "cell_type": "code",
   "execution_count": 96,
   "id": "c7618e75-670c-4df0-a976-22a4c9b1745e",
   "metadata": {},
   "outputs": [
    {
     "data": {
      "text/plain": [
       "'test 1\\ntest 2\\ntest 3\\n'"
      ]
     },
     "execution_count": 96,
     "metadata": {},
     "output_type": "execute_result"
    }
   ],
   "source": [
    "myFile.read()"
   ]
  },
  {
   "cell_type": "code",
   "execution_count": 97,
   "id": "ce42d0f3-c734-4f6a-ac66-21833540e493",
   "metadata": {},
   "outputs": [],
   "source": [
    "myFile.close()"
   ]
  },
  {
   "cell_type": "code",
   "execution_count": 98,
   "id": "9ed78e87-d2c4-4302-a209-2b266019b981",
   "metadata": {},
   "outputs": [
    {
     "name": "stdout",
     "output_type": "stream",
     "text": [
      "test 1\n",
      "test 2\n",
      "test 3\n",
      "\n"
     ]
    }
   ],
   "source": [
    "with open(\"myfile.txt\") as myFile:\n",
    "    myContent = myFile.read()\n",
    "    print(myContent)"
   ]
  },
  {
   "cell_type": "code",
   "execution_count": 99,
   "id": "df51f426-985d-4e70-b235-4069d1c01eff",
   "metadata": {},
   "outputs": [
    {
     "data": {
      "text/plain": [
       "'test 1\\ntest 2\\ntest 3\\n'"
      ]
     },
     "execution_count": 99,
     "metadata": {},
     "output_type": "execute_result"
    }
   ],
   "source": [
    "myContent"
   ]
  },
  {
   "cell_type": "code",
   "execution_count": 100,
   "id": "ab5051d0-ee88-40a2-b2d7-3b8fb6e9e8c4",
   "metadata": {},
   "outputs": [],
   "source": [
    "with open(\"myfile.txt\", mode=\"a\") as myNewFile:\n",
    "    myNewFile = myNewFile.write(\"test 4\")"
   ]
  },
  {
   "cell_type": "code",
   "execution_count": 101,
   "id": "ce1e7e3c-9b82-42fc-9525-07c1ab362625",
   "metadata": {},
   "outputs": [
    {
     "name": "stdout",
     "output_type": "stream",
     "text": [
      "test 1\n",
      "test 2\n",
      "test 3\n",
      "test 4\n"
     ]
    }
   ],
   "source": [
    "with open(\"myfile.txt\", mode=\"r\") as myNewFile2:\n",
    "    myNewFile2 = myNewFile2.read()\n",
    "    print(myNewFile2)"
   ]
  },
  {
   "cell_type": "markdown",
   "id": "07a4cd98-f231-42c4-ac16-ce9652326994",
   "metadata": {},
   "source": [
    "# Type Annotation"
   ]
  },
  {
   "cell_type": "code",
   "execution_count": 104,
   "id": "ebd7fa51-3966-49f9-8944-5e62c75b4af9",
   "metadata": {},
   "outputs": [
    {
     "name": "stdout",
     "output_type": "stream",
     "text": [
      "<class 'str'>\n",
      "<class 'int'>\n"
     ]
    }
   ],
   "source": [
    "# Kod okunabilirliğini arttırmak için önemlidir. \n",
    "name : str = \"Erva\"\n",
    "surname : str = 21\n",
    "print(type(name))\n",
    "print(type(surname)) # ???"
   ]
  },
  {
   "cell_type": "code",
   "execution_count": 106,
   "id": "f6f6109a-4070-4b8b-9cbc-50371cbb55bb",
   "metadata": {},
   "outputs": [
    {
     "data": {
      "text/plain": [
       "20"
      ]
     },
     "execution_count": 106,
     "metadata": {},
     "output_type": "execute_result"
    }
   ],
   "source": [
    "def addNumbers(a: int, b: int) -> int:\n",
    "    return a + b\n",
    "\n",
    "addNumbers(10, 10)"
   ]
  },
  {
   "cell_type": "code",
   "execution_count": null,
   "id": "bc519d6d-79bc-4b07-863b-51f7a321a6e4",
   "metadata": {},
   "outputs": [],
   "source": []
  }
 ],
 "metadata": {
  "kernelspec": {
   "display_name": "Python 3 (ipykernel)",
   "language": "python",
   "name": "python3"
  },
  "language_info": {
   "codemirror_mode": {
    "name": "ipython",
    "version": 3
   },
   "file_extension": ".py",
   "mimetype": "text/x-python",
   "name": "python",
   "nbconvert_exporter": "python",
   "pygments_lexer": "ipython3",
   "version": "3.13.5"
  }
 },
 "nbformat": 4,
 "nbformat_minor": 5
}
