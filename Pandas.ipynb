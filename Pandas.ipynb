{
 "cells": [
  {
   "cell_type": "code",
   "execution_count": 1,
   "id": "291034c4-4f57-43b3-9d86-53fc66e7961b",
   "metadata": {},
   "outputs": [],
   "source": [
    "import numpy as np\n",
    "import pandas as pd"
   ]
  },
  {
   "cell_type": "code",
   "execution_count": 2,
   "id": "7e8be291-0b6b-42d4-af8f-55b4eb47b58c",
   "metadata": {},
   "outputs": [],
   "source": [
    "# https://jalammar.github.io/gentle-visual-intro-to-data-analysis-python-pandas/"
   ]
  },
  {
   "cell_type": "markdown",
   "id": "0e8e8e79-ba90-4d49-bcb1-e3b4be1576cf",
   "metadata": {},
   "source": [
    "# Series"
   ]
  },
  {
   "cell_type": "code",
   "execution_count": 3,
   "id": "52217617-4387-432d-aad9-3779c5d4904c",
   "metadata": {},
   "outputs": [],
   "source": [
    "# Tek boyutludur\n",
    "names = [\"Ensar\",\"Erva\",\"Muhammed\"]\n",
    "notes = [70,60,65]"
   ]
  },
  {
   "cell_type": "code",
   "execution_count": 4,
   "id": "f7df9c32-ae09-4e7f-8a9e-6ed9a94e5993",
   "metadata": {},
   "outputs": [
    {
     "name": "stdout",
     "output_type": "stream",
     "text": [
      "Ensar       70\n",
      "Erva        60\n",
      "Muhammed    65\n",
      "dtype: int64\n"
     ]
    }
   ],
   "source": [
    "result=pd.Series(data=notes, index=names)\n",
    "print(result)"
   ]
  },
  {
   "cell_type": "code",
   "execution_count": 5,
   "id": "152b2aa5-e1d8-4dc3-8e40-6fab8b16a164",
   "metadata": {},
   "outputs": [
    {
     "name": "stdout",
     "output_type": "stream",
     "text": [
      "Ensar       10\n",
      "Erva        20\n",
      "Muhammed    30\n",
      "dtype: int64\n"
     ]
    }
   ],
   "source": [
    "notes2 = [10,20,30]\n",
    "result2=pd.Series(data=notes2, index=names)\n",
    "print(result2)"
   ]
  },
  {
   "cell_type": "code",
   "execution_count": 6,
   "id": "a253ad4a-0d92-48ca-94bd-c2e8ad248fc8",
   "metadata": {},
   "outputs": [
    {
     "name": "stdout",
     "output_type": "stream",
     "text": [
      "Ensar       80\n",
      "Erva        80\n",
      "Muhammed    95\n",
      "dtype: int64\n",
      "\n",
      "Ensar       60\n",
      "Erva        40\n",
      "Muhammed    35\n",
      "dtype: int64\n"
     ]
    }
   ],
   "source": [
    "print(result+result2)\n",
    "print()\n",
    "print(result-result2)"
   ]
  },
  {
   "cell_type": "markdown",
   "id": "487ad530-0f51-4a39-9e91-198638aee724",
   "metadata": {},
   "source": [
    "# DataFrame"
   ]
  },
  {
   "cell_type": "code",
   "execution_count": 7,
   "id": "2eb4a199-8e68-4b07-bd8a-982387e45812",
   "metadata": {},
   "outputs": [
    {
     "data": {
      "text/plain": [
       "array([[-0.42789511, -0.17271996,  0.05815153],\n",
       "       [ 1.19168951, -0.34134856, -0.46437169],\n",
       "       [ 1.93568313,  0.31273275,  1.61430152],\n",
       "       [-0.75071186,  0.40131685, -0.86882182]])"
      ]
     },
     "execution_count": 7,
     "metadata": {},
     "output_type": "execute_result"
    }
   ],
   "source": [
    "data = np.random.randn(4,3)\n",
    "data"
   ]
  },
  {
   "cell_type": "code",
   "execution_count": 8,
   "id": "7a3b8adf-16f3-465e-a10b-55719cacb31c",
   "metadata": {},
   "outputs": [
    {
     "data": {
      "text/html": [
       "<div>\n",
       "<style scoped>\n",
       "    .dataframe tbody tr th:only-of-type {\n",
       "        vertical-align: middle;\n",
       "    }\n",
       "\n",
       "    .dataframe tbody tr th {\n",
       "        vertical-align: top;\n",
       "    }\n",
       "\n",
       "    .dataframe thead th {\n",
       "        text-align: right;\n",
       "    }\n",
       "</style>\n",
       "<table border=\"1\" class=\"dataframe\">\n",
       "  <thead>\n",
       "    <tr style=\"text-align: right;\">\n",
       "      <th></th>\n",
       "      <th>0</th>\n",
       "      <th>1</th>\n",
       "      <th>2</th>\n",
       "    </tr>\n",
       "  </thead>\n",
       "  <tbody>\n",
       "    <tr>\n",
       "      <th>0</th>\n",
       "      <td>-0.427895</td>\n",
       "      <td>-0.172720</td>\n",
       "      <td>0.058152</td>\n",
       "    </tr>\n",
       "    <tr>\n",
       "      <th>1</th>\n",
       "      <td>1.191690</td>\n",
       "      <td>-0.341349</td>\n",
       "      <td>-0.464372</td>\n",
       "    </tr>\n",
       "    <tr>\n",
       "      <th>2</th>\n",
       "      <td>1.935683</td>\n",
       "      <td>0.312733</td>\n",
       "      <td>1.614302</td>\n",
       "    </tr>\n",
       "    <tr>\n",
       "      <th>3</th>\n",
       "      <td>-0.750712</td>\n",
       "      <td>0.401317</td>\n",
       "      <td>-0.868822</td>\n",
       "    </tr>\n",
       "  </tbody>\n",
       "</table>\n",
       "</div>"
      ],
      "text/plain": [
       "          0         1         2\n",
       "0 -0.427895 -0.172720  0.058152\n",
       "1  1.191690 -0.341349 -0.464372\n",
       "2  1.935683  0.312733  1.614302\n",
       "3 -0.750712  0.401317 -0.868822"
      ]
     },
     "execution_count": 8,
     "metadata": {},
     "output_type": "execute_result"
    }
   ],
   "source": [
    "data_frame = pd.DataFrame(data)\n",
    "data_frame"
   ]
  },
  {
   "cell_type": "code",
   "execution_count": 9,
   "id": "e08dfb1e-5cb5-4511-9051-2f42eb3aa04b",
   "metadata": {},
   "outputs": [
    {
     "name": "stdout",
     "output_type": "stream",
     "text": [
      "<class 'pandas.core.frame.DataFrame'>\n",
      "<class 'pandas.core.series.Series'>\n"
     ]
    }
   ],
   "source": [
    "print(type(data_frame))\n",
    "print(type(data_frame[0]))"
   ]
  },
  {
   "cell_type": "code",
   "execution_count": 10,
   "id": "fe47a66f-a99b-4192-a3a9-399a50098a4e",
   "metadata": {},
   "outputs": [
    {
     "data": {
      "text/html": [
       "<div>\n",
       "<style scoped>\n",
       "    .dataframe tbody tr th:only-of-type {\n",
       "        vertical-align: middle;\n",
       "    }\n",
       "\n",
       "    .dataframe tbody tr th {\n",
       "        vertical-align: top;\n",
       "    }\n",
       "\n",
       "    .dataframe thead th {\n",
       "        text-align: right;\n",
       "    }\n",
       "</style>\n",
       "<table border=\"1\" class=\"dataframe\">\n",
       "  <thead>\n",
       "    <tr style=\"text-align: right;\">\n",
       "      <th></th>\n",
       "      <th>Maaş</th>\n",
       "      <th>Yaş</th>\n",
       "      <th>Tecrübe</th>\n",
       "    </tr>\n",
       "  </thead>\n",
       "  <tbody>\n",
       "    <tr>\n",
       "      <th>Ensar</th>\n",
       "      <td>-0.427895</td>\n",
       "      <td>-0.172720</td>\n",
       "      <td>0.058152</td>\n",
       "    </tr>\n",
       "    <tr>\n",
       "      <th>Erva</th>\n",
       "      <td>1.191690</td>\n",
       "      <td>-0.341349</td>\n",
       "      <td>-0.464372</td>\n",
       "    </tr>\n",
       "    <tr>\n",
       "      <th>Zümra</th>\n",
       "      <td>1.935683</td>\n",
       "      <td>0.312733</td>\n",
       "      <td>1.614302</td>\n",
       "    </tr>\n",
       "    <tr>\n",
       "      <th>Hilal</th>\n",
       "      <td>-0.750712</td>\n",
       "      <td>0.401317</td>\n",
       "      <td>-0.868822</td>\n",
       "    </tr>\n",
       "  </tbody>\n",
       "</table>\n",
       "</div>"
      ],
      "text/plain": [
       "           Maaş       Yaş   Tecrübe\n",
       "Ensar -0.427895 -0.172720  0.058152\n",
       "Erva   1.191690 -0.341349 -0.464372\n",
       "Zümra  1.935683  0.312733  1.614302\n",
       "Hilal -0.750712  0.401317 -0.868822"
      ]
     },
     "execution_count": 10,
     "metadata": {},
     "output_type": "execute_result"
    }
   ],
   "source": [
    "new_data_frame = pd.DataFrame(data, index=[\"Ensar\",\"Erva\",\"Zümra\",\"Hilal\"], columns=[\"Maaş\", \"Yaş\",\"Tecrübe\"])\n",
    "new_data_frame"
   ]
  },
  {
   "cell_type": "code",
   "execution_count": 11,
   "id": "053ed6d7-d96a-49eb-9f21-b3f9ca74a4d4",
   "metadata": {},
   "outputs": [
    {
     "data": {
      "text/plain": [
       "Maaş      -0.427895\n",
       "Yaş       -0.172720\n",
       "Tecrübe    0.058152\n",
       "Name: Ensar, dtype: float64"
      ]
     },
     "execution_count": 11,
     "metadata": {},
     "output_type": "execute_result"
    }
   ],
   "source": [
    "new_data_frame.iloc[0] # satıra göre arama yapma --> loc[Ensar] da aynısını verir"
   ]
  },
  {
   "cell_type": "markdown",
   "id": "13d298b1-910d-4e3b-a168-ce38e7007f42",
   "metadata": {},
   "source": [
    "# Data Manipulation"
   ]
  },
  {
   "cell_type": "code",
   "execution_count": 12,
   "id": "f6f552ba-0b8c-4d74-a720-cff76c24e83f",
   "metadata": {},
   "outputs": [
    {
     "data": {
      "text/html": [
       "<div>\n",
       "<style scoped>\n",
       "    .dataframe tbody tr th:only-of-type {\n",
       "        vertical-align: middle;\n",
       "    }\n",
       "\n",
       "    .dataframe tbody tr th {\n",
       "        vertical-align: top;\n",
       "    }\n",
       "\n",
       "    .dataframe thead th {\n",
       "        text-align: right;\n",
       "    }\n",
       "</style>\n",
       "<table border=\"1\" class=\"dataframe\">\n",
       "  <thead>\n",
       "    <tr style=\"text-align: right;\">\n",
       "      <th></th>\n",
       "      <th>Maaş</th>\n",
       "      <th>Yaş</th>\n",
       "      <th>Tecrübe</th>\n",
       "      <th>Ekstra</th>\n",
       "    </tr>\n",
       "  </thead>\n",
       "  <tbody>\n",
       "    <tr>\n",
       "      <th>Ensar</th>\n",
       "      <td>-0.427895</td>\n",
       "      <td>-0.172720</td>\n",
       "      <td>0.058152</td>\n",
       "      <td>10</td>\n",
       "    </tr>\n",
       "    <tr>\n",
       "      <th>Erva</th>\n",
       "      <td>1.191690</td>\n",
       "      <td>-0.341349</td>\n",
       "      <td>-0.464372</td>\n",
       "      <td>10</td>\n",
       "    </tr>\n",
       "    <tr>\n",
       "      <th>Zümra</th>\n",
       "      <td>1.935683</td>\n",
       "      <td>0.312733</td>\n",
       "      <td>1.614302</td>\n",
       "      <td>10</td>\n",
       "    </tr>\n",
       "    <tr>\n",
       "      <th>Hilal</th>\n",
       "      <td>-0.750712</td>\n",
       "      <td>0.401317</td>\n",
       "      <td>-0.868822</td>\n",
       "      <td>10</td>\n",
       "    </tr>\n",
       "  </tbody>\n",
       "</table>\n",
       "</div>"
      ],
      "text/plain": [
       "           Maaş       Yaş   Tecrübe  Ekstra\n",
       "Ensar -0.427895 -0.172720  0.058152      10\n",
       "Erva   1.191690 -0.341349 -0.464372      10\n",
       "Zümra  1.935683  0.312733  1.614302      10\n",
       "Hilal -0.750712  0.401317 -0.868822      10"
      ]
     },
     "execution_count": 12,
     "metadata": {},
     "output_type": "execute_result"
    }
   ],
   "source": [
    "new_data_frame[\"Ekstra\"]=10\n",
    "new_data_frame"
   ]
  },
  {
   "cell_type": "code",
   "execution_count": 13,
   "id": "f08cf314-925f-4374-b2e3-849bdafed46d",
   "metadata": {},
   "outputs": [
    {
     "data": {
      "text/html": [
       "<div>\n",
       "<style scoped>\n",
       "    .dataframe tbody tr th:only-of-type {\n",
       "        vertical-align: middle;\n",
       "    }\n",
       "\n",
       "    .dataframe tbody tr th {\n",
       "        vertical-align: top;\n",
       "    }\n",
       "\n",
       "    .dataframe thead th {\n",
       "        text-align: right;\n",
       "    }\n",
       "</style>\n",
       "<table border=\"1\" class=\"dataframe\">\n",
       "  <thead>\n",
       "    <tr style=\"text-align: right;\">\n",
       "      <th></th>\n",
       "      <th>Maaş</th>\n",
       "      <th>Yaş</th>\n",
       "      <th>Tecrübe</th>\n",
       "    </tr>\n",
       "  </thead>\n",
       "  <tbody>\n",
       "    <tr>\n",
       "      <th>Ensar</th>\n",
       "      <td>-0.427895</td>\n",
       "      <td>-0.172720</td>\n",
       "      <td>0.058152</td>\n",
       "    </tr>\n",
       "    <tr>\n",
       "      <th>Erva</th>\n",
       "      <td>1.191690</td>\n",
       "      <td>-0.341349</td>\n",
       "      <td>-0.464372</td>\n",
       "    </tr>\n",
       "    <tr>\n",
       "      <th>Zümra</th>\n",
       "      <td>1.935683</td>\n",
       "      <td>0.312733</td>\n",
       "      <td>1.614302</td>\n",
       "    </tr>\n",
       "    <tr>\n",
       "      <th>Hilal</th>\n",
       "      <td>-0.750712</td>\n",
       "      <td>0.401317</td>\n",
       "      <td>-0.868822</td>\n",
       "    </tr>\n",
       "  </tbody>\n",
       "</table>\n",
       "</div>"
      ],
      "text/plain": [
       "           Maaş       Yaş   Tecrübe\n",
       "Ensar -0.427895 -0.172720  0.058152\n",
       "Erva   1.191690 -0.341349 -0.464372\n",
       "Zümra  1.935683  0.312733  1.614302\n",
       "Hilal -0.750712  0.401317 -0.868822"
      ]
     },
     "execution_count": 13,
     "metadata": {},
     "output_type": "execute_result"
    }
   ],
   "source": [
    "new_data_frame.drop(\"Ekstra\", axis=1, inplace=True) # inplace içinde bunu yap , axis=1 demezsen satırı siler\n",
    "new_data_frame                                      # new_data_frame = new_data_frame.drop(\"Ekstra\",axis=1) de denebilir."
   ]
  },
  {
   "cell_type": "code",
   "execution_count": 14,
   "id": "8f282ab7-23c7-4704-9329-ef4b9c2a1f5b",
   "metadata": {},
   "outputs": [
    {
     "data": {
      "text/html": [
       "<div>\n",
       "<style scoped>\n",
       "    .dataframe tbody tr th:only-of-type {\n",
       "        vertical-align: middle;\n",
       "    }\n",
       "\n",
       "    .dataframe tbody tr th {\n",
       "        vertical-align: top;\n",
       "    }\n",
       "\n",
       "    .dataframe thead th {\n",
       "        text-align: right;\n",
       "    }\n",
       "</style>\n",
       "<table border=\"1\" class=\"dataframe\">\n",
       "  <thead>\n",
       "    <tr style=\"text-align: right;\">\n",
       "      <th></th>\n",
       "      <th>Maaş</th>\n",
       "      <th>Yaş</th>\n",
       "      <th>Tecrübe</th>\n",
       "    </tr>\n",
       "  </thead>\n",
       "  <tbody>\n",
       "    <tr>\n",
       "      <th>Ensar</th>\n",
       "      <td>100.000000</td>\n",
       "      <td>-0.172720</td>\n",
       "      <td>0.058152</td>\n",
       "    </tr>\n",
       "    <tr>\n",
       "      <th>Erva</th>\n",
       "      <td>1.191690</td>\n",
       "      <td>-0.341349</td>\n",
       "      <td>-0.464372</td>\n",
       "    </tr>\n",
       "    <tr>\n",
       "      <th>Zümra</th>\n",
       "      <td>1.935683</td>\n",
       "      <td>0.312733</td>\n",
       "      <td>1.614302</td>\n",
       "    </tr>\n",
       "    <tr>\n",
       "      <th>Hilal</th>\n",
       "      <td>-0.750712</td>\n",
       "      <td>0.401317</td>\n",
       "      <td>-0.868822</td>\n",
       "    </tr>\n",
       "  </tbody>\n",
       "</table>\n",
       "</div>"
      ],
      "text/plain": [
       "             Maaş       Yaş   Tecrübe\n",
       "Ensar  100.000000 -0.172720  0.058152\n",
       "Erva     1.191690 -0.341349 -0.464372\n",
       "Zümra    1.935683  0.312733  1.614302\n",
       "Hilal   -0.750712  0.401317 -0.868822"
      ]
     },
     "execution_count": 14,
     "metadata": {},
     "output_type": "execute_result"
    }
   ],
   "source": [
    "new_data_frame.loc[\"Ensar\",\"Maaş\"]=100\n",
    "new_data_frame"
   ]
  },
  {
   "cell_type": "code",
   "execution_count": 15,
   "id": "c8bdf22f-c7e5-4cf8-a42d-2770f199c344",
   "metadata": {},
   "outputs": [
    {
     "name": "stdout",
     "output_type": "stream",
     "text": [
      "             Maaş       Yaş   Tecrübe\n",
      "Ensar  100.000000       NaN  0.058152\n",
      "Erva     1.191690       NaN       NaN\n",
      "Zümra    1.935683  0.312733  1.614302\n",
      "Hilal         NaN  0.401317       NaN\n",
      "\n",
      "           Maaş       Yaş   Tecrübe\n",
      "Zümra  1.935683  0.312733  1.614302\n",
      "Hilal -0.750712  0.401317 -0.868822\n"
     ]
    }
   ],
   "source": [
    "print(new_data_frame[new_data_frame>0])\n",
    "print()\n",
    "print(new_data_frame[new_data_frame[\"Yaş\"]>0])"
   ]
  },
  {
   "cell_type": "markdown",
   "id": "72dab4eb-a99c-4a67-bab5-4a8c7e8dc529",
   "metadata": {},
   "source": [
    "# Read Excel & CSV"
   ]
  },
  {
   "cell_type": "code",
   "execution_count": 16,
   "id": "5aa85918-df30-4e17-886c-baeed2ed21ea",
   "metadata": {},
   "outputs": [
    {
     "data": {
      "text/html": [
       "<div>\n",
       "<style scoped>\n",
       "    .dataframe tbody tr th:only-of-type {\n",
       "        vertical-align: middle;\n",
       "    }\n",
       "\n",
       "    .dataframe tbody tr th {\n",
       "        vertical-align: top;\n",
       "    }\n",
       "\n",
       "    .dataframe thead th {\n",
       "        text-align: right;\n",
       "    }\n",
       "</style>\n",
       "<table border=\"1\" class=\"dataframe\">\n",
       "  <thead>\n",
       "    <tr style=\"text-align: right;\">\n",
       "      <th></th>\n",
       "      <th>Istanbul</th>\n",
       "      <th>New York</th>\n",
       "      <th>Amsterdam</th>\n",
       "      <th>Paris</th>\n",
       "    </tr>\n",
       "  </thead>\n",
       "  <tbody>\n",
       "    <tr>\n",
       "      <th>0</th>\n",
       "      <td>20</td>\n",
       "      <td>10</td>\n",
       "      <td>15</td>\n",
       "      <td>12</td>\n",
       "    </tr>\n",
       "    <tr>\n",
       "      <th>1</th>\n",
       "      <td>21</td>\n",
       "      <td>10</td>\n",
       "      <td>17</td>\n",
       "      <td>14</td>\n",
       "    </tr>\n",
       "    <tr>\n",
       "      <th>2</th>\n",
       "      <td>20</td>\n",
       "      <td>13</td>\n",
       "      <td>18</td>\n",
       "      <td>15</td>\n",
       "    </tr>\n",
       "    <tr>\n",
       "      <th>3</th>\n",
       "      <td>22</td>\n",
       "      <td>14</td>\n",
       "      <td>19</td>\n",
       "      <td>18</td>\n",
       "    </tr>\n",
       "    <tr>\n",
       "      <th>4</th>\n",
       "      <td>25</td>\n",
       "      <td>15</td>\n",
       "      <td>15</td>\n",
       "      <td>20</td>\n",
       "    </tr>\n",
       "    <tr>\n",
       "      <th>5</th>\n",
       "      <td>28</td>\n",
       "      <td>13</td>\n",
       "      <td>22</td>\n",
       "      <td>16</td>\n",
       "    </tr>\n",
       "    <tr>\n",
       "      <th>6</th>\n",
       "      <td>15</td>\n",
       "      <td>12</td>\n",
       "      <td>15</td>\n",
       "      <td>15</td>\n",
       "    </tr>\n",
       "    <tr>\n",
       "      <th>7</th>\n",
       "      <td>20</td>\n",
       "      <td>15</td>\n",
       "      <td>14</td>\n",
       "      <td>14</td>\n",
       "    </tr>\n",
       "    <tr>\n",
       "      <th>8</th>\n",
       "      <td>22</td>\n",
       "      <td>16</td>\n",
       "      <td>16</td>\n",
       "      <td>16</td>\n",
       "    </tr>\n",
       "  </tbody>\n",
       "</table>\n",
       "</div>"
      ],
      "text/plain": [
       "   Istanbul  New York  Amsterdam  Paris\n",
       "0        20        10         15     12\n",
       "1        21        10         17     14\n",
       "2        20        13         18     15\n",
       "3        22        14         19     18\n",
       "4        25        15         15     20\n",
       "5        28        13         22     16\n",
       "6        15        12         15     15\n",
       "7        20        15         14     14\n",
       "8        22        16         16     16"
      ]
     },
     "execution_count": 16,
     "metadata": {},
     "output_type": "execute_result"
    }
   ],
   "source": [
    "weather_df = pd.read_excel('6-weather.xlsx')\n",
    "weather_df"
   ]
  },
  {
   "cell_type": "code",
   "execution_count": 17,
   "id": "de764970-f069-4a00-9532-9f2fe09a8539",
   "metadata": {},
   "outputs": [
    {
     "name": "stdout",
     "output_type": "stream",
     "text": [
      "   Istanbul  New York  Amsterdam  Paris\n",
      "0        20        10         15     12\n",
      "1        21        10         17     14\n",
      "2        20        13         18     15\n",
      "3        22        14         19     18\n",
      "4        25        15         15     20\n",
      "\n",
      "   Istanbul  New York  Amsterdam  Paris\n",
      "4        25        15         15     20\n",
      "5        28        13         22     16\n",
      "6        15        12         15     15\n",
      "7        20        15         14     14\n",
      "8        22        16         16     16\n"
     ]
    }
   ],
   "source": [
    "print(weather_df.head())\n",
    "print()\n",
    "print(weather_df.tail())"
   ]
  },
  {
   "cell_type": "code",
   "execution_count": 18,
   "id": "023e804c-3202-4a16-a2dc-7f33af0bdaf8",
   "metadata": {},
   "outputs": [
    {
     "name": "stdout",
     "output_type": "stream",
     "text": [
      "<class 'pandas.core.frame.DataFrame'>\n",
      "RangeIndex: 9 entries, 0 to 8\n",
      "Data columns (total 4 columns):\n",
      " #   Column     Non-Null Count  Dtype\n",
      "---  ------     --------------  -----\n",
      " 0   Istanbul   9 non-null      int64\n",
      " 1   New York   9 non-null      int64\n",
      " 2   Amsterdam  9 non-null      int64\n",
      " 3   Paris      9 non-null      int64\n",
      "dtypes: int64(4)\n",
      "memory usage: 420.0 bytes\n"
     ]
    }
   ],
   "source": [
    "weather_df.info()"
   ]
  },
  {
   "cell_type": "code",
   "execution_count": 19,
   "id": "aa05f94c-99aa-4e68-9eb9-926ea51e3222",
   "metadata": {},
   "outputs": [
    {
     "data": {
      "text/html": [
       "<div>\n",
       "<style scoped>\n",
       "    .dataframe tbody tr th:only-of-type {\n",
       "        vertical-align: middle;\n",
       "    }\n",
       "\n",
       "    .dataframe tbody tr th {\n",
       "        vertical-align: top;\n",
       "    }\n",
       "\n",
       "    .dataframe thead th {\n",
       "        text-align: right;\n",
       "    }\n",
       "</style>\n",
       "<table border=\"1\" class=\"dataframe\">\n",
       "  <thead>\n",
       "    <tr style=\"text-align: right;\">\n",
       "      <th></th>\n",
       "      <th>Istanbul</th>\n",
       "      <th>New York</th>\n",
       "      <th>Amsterdam</th>\n",
       "      <th>Paris</th>\n",
       "    </tr>\n",
       "  </thead>\n",
       "  <tbody>\n",
       "    <tr>\n",
       "      <th>count</th>\n",
       "      <td>9.000000</td>\n",
       "      <td>9.000000</td>\n",
       "      <td>9.000000</td>\n",
       "      <td>9.000000</td>\n",
       "    </tr>\n",
       "    <tr>\n",
       "      <th>mean</th>\n",
       "      <td>21.444444</td>\n",
       "      <td>13.111111</td>\n",
       "      <td>16.777778</td>\n",
       "      <td>15.555556</td>\n",
       "    </tr>\n",
       "    <tr>\n",
       "      <th>std</th>\n",
       "      <td>3.609401</td>\n",
       "      <td>2.147350</td>\n",
       "      <td>2.538591</td>\n",
       "      <td>2.351123</td>\n",
       "    </tr>\n",
       "    <tr>\n",
       "      <th>min</th>\n",
       "      <td>15.000000</td>\n",
       "      <td>10.000000</td>\n",
       "      <td>14.000000</td>\n",
       "      <td>12.000000</td>\n",
       "    </tr>\n",
       "    <tr>\n",
       "      <th>25%</th>\n",
       "      <td>20.000000</td>\n",
       "      <td>12.000000</td>\n",
       "      <td>15.000000</td>\n",
       "      <td>14.000000</td>\n",
       "    </tr>\n",
       "    <tr>\n",
       "      <th>50%</th>\n",
       "      <td>21.000000</td>\n",
       "      <td>13.000000</td>\n",
       "      <td>16.000000</td>\n",
       "      <td>15.000000</td>\n",
       "    </tr>\n",
       "    <tr>\n",
       "      <th>75%</th>\n",
       "      <td>22.000000</td>\n",
       "      <td>15.000000</td>\n",
       "      <td>18.000000</td>\n",
       "      <td>16.000000</td>\n",
       "    </tr>\n",
       "    <tr>\n",
       "      <th>max</th>\n",
       "      <td>28.000000</td>\n",
       "      <td>16.000000</td>\n",
       "      <td>22.000000</td>\n",
       "      <td>20.000000</td>\n",
       "    </tr>\n",
       "  </tbody>\n",
       "</table>\n",
       "</div>"
      ],
      "text/plain": [
       "        Istanbul   New York  Amsterdam      Paris\n",
       "count   9.000000   9.000000   9.000000   9.000000\n",
       "mean   21.444444  13.111111  16.777778  15.555556\n",
       "std     3.609401   2.147350   2.538591   2.351123\n",
       "min    15.000000  10.000000  14.000000  12.000000\n",
       "25%    20.000000  12.000000  15.000000  14.000000\n",
       "50%    21.000000  13.000000  16.000000  15.000000\n",
       "75%    22.000000  15.000000  18.000000  16.000000\n",
       "max    28.000000  16.000000  22.000000  20.000000"
      ]
     },
     "execution_count": 19,
     "metadata": {},
     "output_type": "execute_result"
    }
   ],
   "source": [
    "weather_df.describe()"
   ]
  },
  {
   "cell_type": "code",
   "execution_count": 20,
   "id": "c7ba13cd-a358-4a58-a1b4-45a98e30b370",
   "metadata": {},
   "outputs": [
    {
     "name": "stdout",
     "output_type": "stream",
     "text": [
      "   Istanbul  New York  Amsterdam  Paris\n",
      "0     False     False      False  False\n",
      "1     False     False      False  False\n",
      "2     False     False      False  False\n",
      "3     False     False      False  False\n",
      "4     False     False      False  False\n",
      "5     False     False      False  False\n",
      "6     False     False      False  False\n",
      "7     False     False      False  False\n",
      "8     False     False      False  False\n",
      "\n",
      "Istanbul     9\n",
      "New York     9\n",
      "Amsterdam    9\n",
      "Paris        9\n",
      "dtype: int64\n"
     ]
    }
   ],
   "source": [
    "print(weather_df.isna())\n",
    "print()\n",
    "print(weather_df.count())"
   ]
  },
  {
   "cell_type": "markdown",
   "id": "689dbdf5-b0f9-4646-8593-f5ed4281d787",
   "metadata": {},
   "source": [
    "# Working With Missing Data"
   ]
  },
  {
   "cell_type": "code",
   "execution_count": 21,
   "id": "8a8462c4-be7d-49dd-a603-5479430b70a5",
   "metadata": {},
   "outputs": [
    {
     "data": {
      "text/html": [
       "<div>\n",
       "<style scoped>\n",
       "    .dataframe tbody tr th:only-of-type {\n",
       "        vertical-align: middle;\n",
       "    }\n",
       "\n",
       "    .dataframe tbody tr th {\n",
       "        vertical-align: top;\n",
       "    }\n",
       "\n",
       "    .dataframe thead th {\n",
       "        text-align: right;\n",
       "    }\n",
       "</style>\n",
       "<table border=\"1\" class=\"dataframe\">\n",
       "  <thead>\n",
       "    <tr style=\"text-align: right;\">\n",
       "      <th></th>\n",
       "      <th>Istanbul</th>\n",
       "      <th>New York</th>\n",
       "      <th>Amsterdam</th>\n",
       "      <th>Paris</th>\n",
       "    </tr>\n",
       "  </thead>\n",
       "  <tbody>\n",
       "    <tr>\n",
       "      <th>0</th>\n",
       "      <td>20.0</td>\n",
       "      <td>10.0</td>\n",
       "      <td>15.0</td>\n",
       "      <td>12.0</td>\n",
       "    </tr>\n",
       "    <tr>\n",
       "      <th>1</th>\n",
       "      <td>21.0</td>\n",
       "      <td>10.0</td>\n",
       "      <td>NaN</td>\n",
       "      <td>14.0</td>\n",
       "    </tr>\n",
       "    <tr>\n",
       "      <th>2</th>\n",
       "      <td>NaN</td>\n",
       "      <td>13.0</td>\n",
       "      <td>18.0</td>\n",
       "      <td>15.0</td>\n",
       "    </tr>\n",
       "    <tr>\n",
       "      <th>3</th>\n",
       "      <td>22.0</td>\n",
       "      <td>14.0</td>\n",
       "      <td>19.0</td>\n",
       "      <td>18.0</td>\n",
       "    </tr>\n",
       "    <tr>\n",
       "      <th>4</th>\n",
       "      <td>25.0</td>\n",
       "      <td>15.0</td>\n",
       "      <td>15.0</td>\n",
       "      <td>20.0</td>\n",
       "    </tr>\n",
       "    <tr>\n",
       "      <th>5</th>\n",
       "      <td>28.0</td>\n",
       "      <td>NaN</td>\n",
       "      <td>22.0</td>\n",
       "      <td>NaN</td>\n",
       "    </tr>\n",
       "    <tr>\n",
       "      <th>6</th>\n",
       "      <td>15.0</td>\n",
       "      <td>12.0</td>\n",
       "      <td>15.0</td>\n",
       "      <td>15.0</td>\n",
       "    </tr>\n",
       "    <tr>\n",
       "      <th>7</th>\n",
       "      <td>20.0</td>\n",
       "      <td>15.0</td>\n",
       "      <td>14.0</td>\n",
       "      <td>NaN</td>\n",
       "    </tr>\n",
       "    <tr>\n",
       "      <th>8</th>\n",
       "      <td>22.0</td>\n",
       "      <td>16.0</td>\n",
       "      <td>16.0</td>\n",
       "      <td>NaN</td>\n",
       "    </tr>\n",
       "  </tbody>\n",
       "</table>\n",
       "</div>"
      ],
      "text/plain": [
       "   Istanbul  New York  Amsterdam  Paris\n",
       "0      20.0      10.0       15.0   12.0\n",
       "1      21.0      10.0        NaN   14.0\n",
       "2       NaN      13.0       18.0   15.0\n",
       "3      22.0      14.0       19.0   18.0\n",
       "4      25.0      15.0       15.0   20.0\n",
       "5      28.0       NaN       22.0    NaN\n",
       "6      15.0      12.0       15.0   15.0\n",
       "7      20.0      15.0       14.0    NaN\n",
       "8      22.0      16.0       16.0    NaN"
      ]
     },
     "execution_count": 21,
     "metadata": {},
     "output_type": "execute_result"
    }
   ],
   "source": [
    "weather_na_df = pd.read_excel('6-weatherna.xlsx')\n",
    "weather_na_df"
   ]
  },
  {
   "cell_type": "code",
   "execution_count": 22,
   "id": "a7d66b1a-1d00-449a-a901-739adb4efc62",
   "metadata": {},
   "outputs": [
    {
     "name": "stdout",
     "output_type": "stream",
     "text": [
      "   Istanbul  New York  Amsterdam  Paris\n",
      "0      20.0      10.0       15.0   12.0\n",
      "3      22.0      14.0       19.0   18.0\n",
      "4      25.0      15.0       15.0   20.0\n",
      "6      15.0      12.0       15.0   15.0\n",
      "\n",
      "   Istanbul  New York  Amsterdam  Paris\n",
      "0      20.0      10.0       15.0   12.0\n",
      "1      21.0      10.0       20.0   14.0\n",
      "2      20.0      13.0       18.0   15.0\n",
      "3      22.0      14.0       19.0   18.0\n",
      "4      25.0      15.0       15.0   20.0\n",
      "5      28.0      20.0       22.0   20.0\n",
      "6      15.0      12.0       15.0   15.0\n",
      "7      20.0      15.0       14.0   20.0\n",
      "8      22.0      16.0       16.0   20.0\n"
     ]
    }
   ],
   "source": [
    "print(weather_na_df.dropna())\n",
    "print()\n",
    "print(weather_na_df.fillna(20))"
   ]
  },
  {
   "cell_type": "code",
   "execution_count": 23,
   "id": "7977f5e3-0fca-494a-a6c2-62c8531b5661",
   "metadata": {},
   "outputs": [
    {
     "name": "stdout",
     "output_type": "stream",
     "text": [
      "Istanbul     21.625000\n",
      "New York     13.125000\n",
      "Amsterdam    16.750000\n",
      "Paris        15.666667\n",
      "dtype: float64\n",
      "\n",
      "Istanbul     21.5\n",
      "New York     13.5\n",
      "Amsterdam    15.5\n",
      "Paris        15.0\n",
      "dtype: float64\n"
     ]
    }
   ],
   "source": [
    "print(weather_na_df.mean())\n",
    "print()\n",
    "print(weather_na_df.median())"
   ]
  },
  {
   "cell_type": "code",
   "execution_count": 24,
   "id": "ffd06f96-900c-40ec-9d45-776a5f1341d2",
   "metadata": {},
   "outputs": [
    {
     "data": {
      "text/html": [
       "<div>\n",
       "<style scoped>\n",
       "    .dataframe tbody tr th:only-of-type {\n",
       "        vertical-align: middle;\n",
       "    }\n",
       "\n",
       "    .dataframe tbody tr th {\n",
       "        vertical-align: top;\n",
       "    }\n",
       "\n",
       "    .dataframe thead th {\n",
       "        text-align: right;\n",
       "    }\n",
       "</style>\n",
       "<table border=\"1\" class=\"dataframe\">\n",
       "  <thead>\n",
       "    <tr style=\"text-align: right;\">\n",
       "      <th></th>\n",
       "      <th>Istanbul</th>\n",
       "      <th>New York</th>\n",
       "      <th>Amsterdam</th>\n",
       "      <th>Paris</th>\n",
       "    </tr>\n",
       "  </thead>\n",
       "  <tbody>\n",
       "    <tr>\n",
       "      <th>0</th>\n",
       "      <td>20.000</td>\n",
       "      <td>10.000</td>\n",
       "      <td>15.00</td>\n",
       "      <td>12.000000</td>\n",
       "    </tr>\n",
       "    <tr>\n",
       "      <th>1</th>\n",
       "      <td>21.000</td>\n",
       "      <td>10.000</td>\n",
       "      <td>16.75</td>\n",
       "      <td>14.000000</td>\n",
       "    </tr>\n",
       "    <tr>\n",
       "      <th>2</th>\n",
       "      <td>21.625</td>\n",
       "      <td>13.000</td>\n",
       "      <td>18.00</td>\n",
       "      <td>15.000000</td>\n",
       "    </tr>\n",
       "    <tr>\n",
       "      <th>3</th>\n",
       "      <td>22.000</td>\n",
       "      <td>14.000</td>\n",
       "      <td>19.00</td>\n",
       "      <td>18.000000</td>\n",
       "    </tr>\n",
       "    <tr>\n",
       "      <th>4</th>\n",
       "      <td>25.000</td>\n",
       "      <td>15.000</td>\n",
       "      <td>15.00</td>\n",
       "      <td>20.000000</td>\n",
       "    </tr>\n",
       "    <tr>\n",
       "      <th>5</th>\n",
       "      <td>28.000</td>\n",
       "      <td>13.125</td>\n",
       "      <td>22.00</td>\n",
       "      <td>15.666667</td>\n",
       "    </tr>\n",
       "    <tr>\n",
       "      <th>6</th>\n",
       "      <td>15.000</td>\n",
       "      <td>12.000</td>\n",
       "      <td>15.00</td>\n",
       "      <td>15.000000</td>\n",
       "    </tr>\n",
       "    <tr>\n",
       "      <th>7</th>\n",
       "      <td>20.000</td>\n",
       "      <td>15.000</td>\n",
       "      <td>14.00</td>\n",
       "      <td>15.666667</td>\n",
       "    </tr>\n",
       "    <tr>\n",
       "      <th>8</th>\n",
       "      <td>22.000</td>\n",
       "      <td>16.000</td>\n",
       "      <td>16.00</td>\n",
       "      <td>15.666667</td>\n",
       "    </tr>\n",
       "  </tbody>\n",
       "</table>\n",
       "</div>"
      ],
      "text/plain": [
       "   Istanbul  New York  Amsterdam      Paris\n",
       "0    20.000    10.000      15.00  12.000000\n",
       "1    21.000    10.000      16.75  14.000000\n",
       "2    21.625    13.000      18.00  15.000000\n",
       "3    22.000    14.000      19.00  18.000000\n",
       "4    25.000    15.000      15.00  20.000000\n",
       "5    28.000    13.125      22.00  15.666667\n",
       "6    15.000    12.000      15.00  15.000000\n",
       "7    20.000    15.000      14.00  15.666667\n",
       "8    22.000    16.000      16.00  15.666667"
      ]
     },
     "execution_count": 24,
     "metadata": {},
     "output_type": "execute_result"
    }
   ],
   "source": [
    "# Ortalama ile doldurma\n",
    "weather_na_df.fillna(weather_na_df.mean())"
   ]
  },
  {
   "cell_type": "code",
   "execution_count": null,
   "id": "04fade73-b7d3-463e-9c37-0973f4652557",
   "metadata": {},
   "outputs": [],
   "source": []
  }
 ],
 "metadata": {
  "kernelspec": {
   "display_name": "Python 3 (ipykernel)",
   "language": "python",
   "name": "python3"
  },
  "language_info": {
   "codemirror_mode": {
    "name": "ipython",
    "version": 3
   },
   "file_extension": ".py",
   "mimetype": "text/x-python",
   "name": "python",
   "nbconvert_exporter": "python",
   "pygments_lexer": "ipython3",
   "version": "3.13.5"
  }
 },
 "nbformat": 4,
 "nbformat_minor": 5
}
