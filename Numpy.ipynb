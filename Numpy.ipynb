{
 "cells": [
  {
   "cell_type": "code",
   "execution_count": 1,
   "id": "8024d777-30ab-4d1f-a906-020b0aed9306",
   "metadata": {},
   "outputs": [],
   "source": [
    "import numpy as np"
   ]
  },
  {
   "cell_type": "markdown",
   "id": "6107aa9a-fe1f-4fe8-8a9c-013d7cb3ce26",
   "metadata": {},
   "source": [
    "# Numpy Arrays"
   ]
  },
  {
   "cell_type": "code",
   "execution_count": 2,
   "id": "f266bd1f-8a62-4ee3-82da-11db8690e55d",
   "metadata": {},
   "outputs": [],
   "source": [
    "# https://jalammar.github.io/visual-numpy/"
   ]
  },
  {
   "cell_type": "code",
   "execution_count": 3,
   "id": "52ff34e3-aa95-4861-b6a5-ee4396dcf0c3",
   "metadata": {},
   "outputs": [
    {
     "name": "stdout",
     "output_type": "stream",
     "text": [
      "<class 'list'>\n"
     ]
    }
   ],
   "source": [
    "my_list = [10,20,30,40,50]\n",
    "print(type(my_list))"
   ]
  },
  {
   "cell_type": "code",
   "execution_count": 4,
   "id": "fa72c9ed-b07b-4fba-a47b-d88214d7993d",
   "metadata": {},
   "outputs": [
    {
     "name": "stdout",
     "output_type": "stream",
     "text": [
      "<class 'numpy.ndarray'>\n"
     ]
    }
   ],
   "source": [
    "np_array = np.array(my_list)\n",
    "print(type(np_array))"
   ]
  },
  {
   "cell_type": "code",
   "execution_count": 5,
   "id": "dd36c9ed-081a-41fc-9888-80a7cf93b498",
   "metadata": {},
   "outputs": [
    {
     "data": {
      "text/plain": [
       "array([10, 20, 30, 40, 50])"
      ]
     },
     "execution_count": 5,
     "metadata": {},
     "output_type": "execute_result"
    }
   ],
   "source": [
    "np_array"
   ]
  },
  {
   "cell_type": "code",
   "execution_count": 6,
   "id": "6c1b2768-8034-42c2-aa4f-76213f7c2721",
   "metadata": {},
   "outputs": [
    {
     "name": "stdout",
     "output_type": "stream",
     "text": [
      "[1. 1. 1. 1. 1.]\n",
      "[0. 0. 0. 0. 0.]\n",
      "[0.35874566 0.47164376 0.28815461 0.71781962 0.22356976]\n"
     ]
    }
   ],
   "source": [
    "print(np.ones(5))\n",
    "print(np.zeros(5))\n",
    "print(np.random.random(5))"
   ]
  },
  {
   "cell_type": "markdown",
   "id": "be2d0892-9597-4a31-9c38-b7f41fa2f016",
   "metadata": {},
   "source": [
    "# Array Arithmetic"
   ]
  },
  {
   "cell_type": "code",
   "execution_count": 7,
   "id": "9e5b2d4b-65a0-4f14-a369-e3643b157ffb",
   "metadata": {},
   "outputs": [
    {
     "name": "stdout",
     "output_type": "stream",
     "text": [
      "List 1:  [1, 2]\n",
      "List 2:  [3, 4]\n"
     ]
    }
   ],
   "source": [
    "myList1 = [1,2]\n",
    "myList2 = [3,4]\n",
    "print(\"List 1: \",myList1)\n",
    "print(\"List 2: \",myList2)"
   ]
  },
  {
   "cell_type": "code",
   "execution_count": 8,
   "id": "6beeceb8-4c08-4865-b5f3-8995c36c8ed0",
   "metadata": {},
   "outputs": [
    {
     "name": "stdout",
     "output_type": "stream",
     "text": [
      "1. Numpy Array is:  [1 2]\n",
      "2. Numpy Array is:  [3 4]\n"
     ]
    }
   ],
   "source": [
    "my_numpy_array1 = np.array(myList1)\n",
    "my_numpy_array2 = np.array(myList2)\n",
    "print(\"1. Numpy Array is: \",my_numpy_array1)\n",
    "print(\"2. Numpy Array is: \",my_numpy_array2)"
   ]
  },
  {
   "cell_type": "code",
   "execution_count": 9,
   "id": "7cb1e397-1a04-43b4-b69b-586b075c9662",
   "metadata": {},
   "outputs": [
    {
     "data": {
      "text/plain": [
       "[1, 2, 3, 4]"
      ]
     },
     "execution_count": 9,
     "metadata": {},
     "output_type": "execute_result"
    }
   ],
   "source": [
    "myList1 + myList2"
   ]
  },
  {
   "cell_type": "code",
   "execution_count": 10,
   "id": "a41b6aa0-f561-4dcc-a730-c567d390cdc7",
   "metadata": {},
   "outputs": [
    {
     "data": {
      "text/plain": [
       "array([4, 6])"
      ]
     },
     "execution_count": 10,
     "metadata": {},
     "output_type": "execute_result"
    }
   ],
   "source": [
    "my_numpy_array1 + my_numpy_array2 # 1+3=4 first element, 2+4=6 second element"
   ]
  },
  {
   "cell_type": "code",
   "execution_count": 11,
   "id": "aa2eb6a1-d763-4e73-9f7e-f6cadd587a2d",
   "metadata": {},
   "outputs": [
    {
     "name": "stdout",
     "output_type": "stream",
     "text": [
      "[-2 -2]\n",
      "[3 8]\n",
      "[0.33333333 0.5       ]\n"
     ]
    }
   ],
   "source": [
    "print(my_numpy_array1 - my_numpy_array2)\n",
    "print(my_numpy_array1 * my_numpy_array2)\n",
    "print(my_numpy_array1 / my_numpy_array2)"
   ]
  },
  {
   "cell_type": "code",
   "execution_count": 12,
   "id": "db0605cd-e261-4517-b400-3a34806e7b4d",
   "metadata": {},
   "outputs": [
    {
     "data": {
      "text/plain": [
       "array([ 5, 10])"
      ]
     },
     "execution_count": 12,
     "metadata": {},
     "output_type": "execute_result"
    }
   ],
   "source": [
    "my_numpy_array1 * 5"
   ]
  },
  {
   "cell_type": "markdown",
   "id": "a1015dce-d8ed-40b7-81fa-e5d504f3c461",
   "metadata": {},
   "source": [
    "# Arange & Indexing"
   ]
  },
  {
   "cell_type": "code",
   "execution_count": 13,
   "id": "f647beb5-6078-4d43-8bbd-59be3edbed14",
   "metadata": {},
   "outputs": [
    {
     "name": "stdout",
     "output_type": "stream",
     "text": [
      "List:  [0, 1, 2, 3, 4, 5, 6, 7, 8, 9]\n",
      "Numpy Array:  [0 1 2 3 4 5 6 7 8 9]\n"
     ]
    }
   ],
   "source": [
    "print(\"List: \",list(range(0,10)))\n",
    "print(\"Numpy Array: \",np.arange(0,10))"
   ]
  },
  {
   "cell_type": "code",
   "execution_count": 14,
   "id": "963e0121-d279-451e-8433-a86015f73f63",
   "metadata": {},
   "outputs": [
    {
     "name": "stdout",
     "output_type": "stream",
     "text": [
      "First element:  0 \n",
      " Last Element:  9\n",
      "Slicing:  [1 3 5 7 9]\n",
      "Reverse:  [9 8 7 6 5 4 3 2 1 0]\n"
     ]
    }
   ],
   "source": [
    "my_np_array = np.arange(0,10)\n",
    "\n",
    "print(\"First element: \",my_np_array[0],\"\\n\",\"Last Element: \",my_np_array[-1])\n",
    "print(\"Slicing: \", my_np_array[1:10:2])\n",
    "print(\"Reverse: \", my_np_array[::-1])"
   ]
  },
  {
   "cell_type": "code",
   "execution_count": 15,
   "id": "640be597-2b7e-4119-8301-1654f6c0e17e",
   "metadata": {},
   "outputs": [
    {
     "name": "stdout",
     "output_type": "stream",
     "text": [
      "9\n",
      "0\n",
      "45\n",
      "\n",
      "**********\n",
      "\n",
      "[[0.55219604 0.17195039 0.95832016 0.19986909]\n",
      " [0.86171303 0.42887602 0.24490513 0.88097695]\n",
      " [0.92387721 0.97220295 0.33689858 0.51070248]\n",
      " [0.7000118  0.9186977  0.75231983 0.41337707]] \n",
      "\n",
      "[199 223  17 225 248]\n"
     ]
    }
   ],
   "source": [
    "print(my_np_array.max())\n",
    "print(my_np_array.min())\n",
    "print(my_np_array.sum())\n",
    "print(\"\\n**********\\n\")\n",
    "print(np.random.rand(4,4),\"\\n\")\n",
    "print(np.random.randint(1,300,5))"
   ]
  },
  {
   "cell_type": "markdown",
   "id": "e3e6d2a9-d8fb-4b6c-a789-73f6c6d801dc",
   "metadata": {},
   "source": [
    "# Matrix"
   ]
  },
  {
   "cell_type": "code",
   "execution_count": 16,
   "id": "314f447f-df28-46d1-aba7-cdec4f39b468",
   "metadata": {},
   "outputs": [
    {
     "name": "stdout",
     "output_type": "stream",
     "text": [
      "[[1 2]\n",
      " [3 4]]\n",
      "\n",
      "[[1. 1.]\n",
      " [1. 1.]]\n"
     ]
    }
   ],
   "source": [
    "# row * column\n",
    "matrix = np.array([[1,2],[3,4]])\n",
    "one_matrix = np.ones((2,2))\n",
    "\n",
    "print(matrix)\n",
    "print()\n",
    "print(one_matrix)"
   ]
  },
  {
   "cell_type": "code",
   "execution_count": 17,
   "id": "5e39f6ca-e7a5-4c6f-9a5c-84254b582890",
   "metadata": {},
   "outputs": [
    {
     "data": {
      "text/plain": [
       "array([[2., 3.],\n",
       "       [4., 5.]])"
      ]
     },
     "execution_count": 17,
     "metadata": {},
     "output_type": "execute_result"
    }
   ],
   "source": [
    "# Matrix Arithmetic\n",
    "matrix + one_matrix"
   ]
  },
  {
   "cell_type": "code",
   "execution_count": 18,
   "id": "caeab9a6-b819-42ef-bf30-677219993d54",
   "metadata": {},
   "outputs": [
    {
     "data": {
      "text/plain": [
       "(2, 2)"
      ]
     },
     "execution_count": 18,
     "metadata": {},
     "output_type": "execute_result"
    }
   ],
   "source": [
    "matrix.shape"
   ]
  },
  {
   "cell_type": "code",
   "execution_count": 19,
   "id": "9d70a21c-1078-4669-9e44-80e0b96309f1",
   "metadata": {},
   "outputs": [
    {
     "name": "stdout",
     "output_type": "stream",
     "text": [
      "First Matrix\n",
      " [[10 20]\n",
      " [30 40]]\n",
      "(2, 2)\n",
      "\n",
      "Second Matrix\n",
      " [[ 5 15]\n",
      " [25 35]]\n",
      "(2, 2)\n"
     ]
    }
   ],
   "source": [
    "# matrix multiplication\n",
    "first_array = np.array([[10,20],[30,40]])\n",
    "second_array = np.array([[5,15],[25,35]])\n",
    "\n",
    "print(\"First Matrix\\n\",first_array)\n",
    "print(first_array.shape)\n",
    "print()\n",
    "print(\"Second Matrix\\n\",second_array)\n",
    "print(second_array.shape)"
   ]
  },
  {
   "cell_type": "code",
   "execution_count": 20,
   "id": "ebdf545e-d85b-4b3b-a95b-517b109505db",
   "metadata": {},
   "outputs": [
    {
     "data": {
      "text/plain": [
       "array([[  50,  300],\n",
       "       [ 750, 1400]])"
      ]
     },
     "execution_count": 20,
     "metadata": {},
     "output_type": "execute_result"
    }
   ],
   "source": [
    "# 1.nin sütunu 2.satırına eşit olmalı. 1--> 2x2 , 2--> 2x2\n",
    "first_array * second_array # bu normal"
   ]
  },
  {
   "cell_type": "code",
   "execution_count": 21,
   "id": "a6992c62-bb8e-4bd5-ae3c-6a10a4ae3cf5",
   "metadata": {},
   "outputs": [
    {
     "name": "stdout",
     "output_type": "stream",
     "text": [
      "[[10 20]\n",
      " [30 40]\n",
      " [50 60]]\n",
      "(3, 2)\n",
      "\n",
      "[[1 3]\n",
      " [5 7]]\n",
      "(2, 2)\n"
     ]
    }
   ],
   "source": [
    "# dot product\n",
    "matrix1 = np.array([[10,20],[30,40],[50,60]])\n",
    "matrix2 = np.array([[1,3],[5,7]])\n",
    "\n",
    "print(matrix1)\n",
    "print(matrix1.shape)\n",
    "print()\n",
    "print(matrix2)\n",
    "print(matrix2.shape)"
   ]
  },
  {
   "cell_type": "code",
   "execution_count": 22,
   "id": "cfe3ea6d-cc34-40c1-bf3b-6eaa61b52a90",
   "metadata": {},
   "outputs": [
    {
     "data": {
      "text/plain": [
       "array([[110, 170],\n",
       "       [230, 370],\n",
       "       [350, 570]])"
      ]
     },
     "execution_count": 22,
     "metadata": {},
     "output_type": "execute_result"
    }
   ],
   "source": [
    "matrix1.dot(matrix2) # 3x[2] * [2]x2 = 2x2 "
   ]
  },
  {
   "cell_type": "markdown",
   "id": "771c9be7-3297-4704-8119-c4af899dd2a5",
   "metadata": {},
   "source": [
    "# Numpy Operations"
   ]
  },
  {
   "cell_type": "code",
   "execution_count": 23,
   "id": "34810e86-8724-4a18-9172-cbef6d1487ce",
   "metadata": {},
   "outputs": [
    {
     "name": "stdout",
     "output_type": "stream",
     "text": [
      "[89 27 93 67 29 49 97 48 23 61 35 81 94  4 68 59  7 37 15 35]\n"
     ]
    }
   ],
   "source": [
    "new_array = np.random.randint(1,100,20)\n",
    "\n",
    "print(new_array)"
   ]
  },
  {
   "cell_type": "code",
   "execution_count": 24,
   "id": "48f3b74a-24ca-480c-a597-9f819ad9825e",
   "metadata": {},
   "outputs": [
    {
     "name": "stdout",
     "output_type": "stream",
     "text": [
      "[ True False  True  True False  True  True  True False  True  True  True\n",
      "  True False  True  True False  True False  True]\n",
      "\n",
      "[89 93 67 49 97 48 61 35 81 94 68 59 37 35]\n"
     ]
    }
   ],
   "source": [
    "print(new_array>30)\n",
    "print()\n",
    "print(new_array[new_array>30])"
   ]
  },
  {
   "cell_type": "code",
   "execution_count": 26,
   "id": "ec0c26fc-3fe2-4a99-9575-67b5089d1140",
   "metadata": {},
   "outputs": [
    {
     "name": "stdout",
     "output_type": "stream",
     "text": [
      "[[10 20]\n",
      " [30 40]\n",
      " [50 60]]\n",
      "(3, 2)\n",
      "\n",
      "Transpose: \n",
      " [[10 30 50]\n",
      " [20 40 60]]\n",
      "\n",
      "[[10 30 50]\n",
      " [20 40 60]]\n"
     ]
    }
   ],
   "source": [
    "# Transpose & Reshape\n",
    "matrix_array = np.array([[10,20],[30,40],[50,60]])\n",
    "print(matrix_array)\n",
    "print(matrix_array.shape)\n",
    "print()\n",
    "print(\"Transpose: \\n\", matrix_array.transpose())\n",
    "print()\n",
    "print(matrix_array.T)"
   ]
  },
  {
   "cell_type": "code",
   "execution_count": 29,
   "id": "bfd292f1-b676-48a2-8e18-d8426479b06f",
   "metadata": {},
   "outputs": [
    {
     "name": "stdout",
     "output_type": "stream",
     "text": [
      "[[0.47987755]\n",
      " [0.31062094]\n",
      " [0.34237586]\n",
      " [0.92735271]\n",
      " [0.23488684]\n",
      " [0.0894928 ]]\n",
      "\n",
      "(6, 1)\n"
     ]
    }
   ],
   "source": [
    "random_array = np.random.random((6,1))\n",
    "print(random_array)\n",
    "print()\n",
    "print(random_array.shape)"
   ]
  },
  {
   "cell_type": "code",
   "execution_count": 30,
   "id": "65c9269c-964c-4193-95d2-8ca89fee68c9",
   "metadata": {},
   "outputs": [
    {
     "data": {
      "text/plain": [
       "array([[0.47987755, 0.31062094, 0.34237586],\n",
       "       [0.92735271, 0.23488684, 0.0894928 ]])"
      ]
     },
     "execution_count": 30,
     "metadata": {},
     "output_type": "execute_result"
    }
   ],
   "source": [
    "random_array.reshape(2,3)"
   ]
  },
  {
   "cell_type": "code",
   "execution_count": 44,
   "id": "f23d1f52-27d7-4c57-ac4a-a8aa507d141a",
   "metadata": {},
   "outputs": [
    {
     "name": "stdout",
     "output_type": "stream",
     "text": [
      "[[2 3]\n",
      " [5 7]]\n",
      "\n",
      "[ 8 19]\n",
      "\n",
      "x: 1.0\n",
      "y: 2.0\n"
     ]
    }
   ],
   "source": [
    "# Denklem çözme - gerek olmayabilir \n",
    "# 2x + 3y = 8 and 5x + 7y = 19\n",
    "# coefficient (katsayılar)\n",
    "A = np.array([[2,3],[5,7]])\n",
    "print(A)\n",
    "print()\n",
    "\n",
    "# constant - sabitler\n",
    "b = np.array([8,19])\n",
    "print(b)\n",
    "print()\n",
    "\n",
    "solution = np.linalg.solve(A,b)\n",
    "print(f\"x: {solution[0]}\")\n",
    "print(f\"y: {solution[1]}\")"
   ]
  },
  {
   "cell_type": "code",
   "execution_count": null,
   "id": "5c4a8ef0-20a0-40ba-8502-8cd66a230cce",
   "metadata": {},
   "outputs": [],
   "source": []
  }
 ],
 "metadata": {
  "kernelspec": {
   "display_name": "Python 3 (ipykernel)",
   "language": "python",
   "name": "python3"
  },
  "language_info": {
   "codemirror_mode": {
    "name": "ipython",
    "version": 3
   },
   "file_extension": ".py",
   "mimetype": "text/x-python",
   "name": "python",
   "nbconvert_exporter": "python",
   "pygments_lexer": "ipython3",
   "version": "3.13.5"
  }
 },
 "nbformat": 4,
 "nbformat_minor": 5
}
